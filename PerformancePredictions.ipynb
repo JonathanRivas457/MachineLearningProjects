{
 "cells": [
  {
   "cell_type": "markdown",
   "id": "facfdfc2-02b3-436d-bac5-e81a10b38812",
   "metadata": {},
   "source": [
    "# Introduction and Objective"
   ]
  },
  {
   "cell_type": "markdown",
   "id": "ffde3179-d22c-4b8b-97b7-59dbc1adf1c7",
   "metadata": {},
   "source": [
    "<font face=\"Arial\" size=\"4\">Data Set</font>"
   ]
  },
  {
   "cell_type": "markdown",
   "id": "7e98ea29-0240-4cec-9fd7-c245e80d4c2e",
   "metadata": {},
   "source": [
    "Initial data set is made up of Coca Cola's stock data in the timeframe of 2019-01-20 to 2024-01-20 and was retrieved from Yahoo Finances.\n",
    "This data consists of 7 features...\n",
    "1. Date: This is a categorical feature that represents the specific day stock data was collected\n",
    "2. Open: This is a numerical feature that represents stock price at the startof the day\n",
    "3. High: This is a numerical feature that represents the highest stock price in a given day\n",
    "4. Low: This is a numerical feature that represents the lowest stock price in a given day\n",
    "5. Close: This is a numerical feature that represents the stock price at the end of the day\n",
    "6. Adj Close: This is a numerical feature that represents the adjusted closing\n",
    "7. Volume: This is a numerical feature that represents how many shares were traded in a given day"
   ]
  },
  {
   "cell_type": "code",
   "execution_count": 1,
   "id": "9838d9a6-2d26-498a-95cc-197164dfb42e",
   "metadata": {},
   "outputs": [
    {
     "data": {
      "text/html": [
       "<div>\n",
       "<style scoped>\n",
       "    .dataframe tbody tr th:only-of-type {\n",
       "        vertical-align: middle;\n",
       "    }\n",
       "\n",
       "    .dataframe tbody tr th {\n",
       "        vertical-align: top;\n",
       "    }\n",
       "\n",
       "    .dataframe thead th {\n",
       "        text-align: right;\n",
       "    }\n",
       "</style>\n",
       "<table border=\"1\" class=\"dataframe\">\n",
       "  <thead>\n",
       "    <tr style=\"text-align: right;\">\n",
       "      <th></th>\n",
       "      <th>Date</th>\n",
       "      <th>Open</th>\n",
       "      <th>High</th>\n",
       "      <th>Low</th>\n",
       "      <th>Close</th>\n",
       "      <th>Adj Close</th>\n",
       "      <th>Volume</th>\n",
       "    </tr>\n",
       "  </thead>\n",
       "  <tbody>\n",
       "    <tr>\n",
       "      <th>0</th>\n",
       "      <td>2019-01-22</td>\n",
       "      <td>208.000000</td>\n",
       "      <td>209.500000</td>\n",
       "      <td>204.270004</td>\n",
       "      <td>208.110001</td>\n",
       "      <td>203.525024</td>\n",
       "      <td>22300</td>\n",
       "    </tr>\n",
       "    <tr>\n",
       "      <th>1</th>\n",
       "      <td>2019-01-23</td>\n",
       "      <td>207.619995</td>\n",
       "      <td>214.429993</td>\n",
       "      <td>205.759995</td>\n",
       "      <td>213.809998</td>\n",
       "      <td>209.099426</td>\n",
       "      <td>20900</td>\n",
       "    </tr>\n",
       "    <tr>\n",
       "      <th>2</th>\n",
       "      <td>2019-01-24</td>\n",
       "      <td>212.080002</td>\n",
       "      <td>216.639999</td>\n",
       "      <td>210.850006</td>\n",
       "      <td>213.759995</td>\n",
       "      <td>209.295258</td>\n",
       "      <td>17300</td>\n",
       "    </tr>\n",
       "    <tr>\n",
       "      <th>3</th>\n",
       "      <td>2019-01-25</td>\n",
       "      <td>213.210007</td>\n",
       "      <td>217.949997</td>\n",
       "      <td>211.199997</td>\n",
       "      <td>211.619995</td>\n",
       "      <td>207.199966</td>\n",
       "      <td>26600</td>\n",
       "    </tr>\n",
       "    <tr>\n",
       "      <th>4</th>\n",
       "      <td>2019-01-28</td>\n",
       "      <td>212.000000</td>\n",
       "      <td>213.169998</td>\n",
       "      <td>203.809998</td>\n",
       "      <td>211.360001</td>\n",
       "      <td>206.945358</td>\n",
       "      <td>17300</td>\n",
       "    </tr>\n",
       "  </tbody>\n",
       "</table>\n",
       "</div>"
      ],
      "text/plain": [
       "         Date        Open        High         Low       Close   Adj Close  \\\n",
       "0  2019-01-22  208.000000  209.500000  204.270004  208.110001  203.525024   \n",
       "1  2019-01-23  207.619995  214.429993  205.759995  213.809998  209.099426   \n",
       "2  2019-01-24  212.080002  216.639999  210.850006  213.759995  209.295258   \n",
       "3  2019-01-25  213.210007  217.949997  211.199997  211.619995  207.199966   \n",
       "4  2019-01-28  212.000000  213.169998  203.809998  211.360001  206.945358   \n",
       "\n",
       "   Volume  \n",
       "0   22300  \n",
       "1   20900  \n",
       "2   17300  \n",
       "3   26600  \n",
       "4   17300  "
      ]
     },
     "execution_count": 1,
     "metadata": {},
     "output_type": "execute_result"
    }
   ],
   "source": [
    "import pandas as pd\n",
    "import matplotlib.pyplot as plt\n",
    "import seaborn as sns\n",
    "import numpy as np\n",
    "\n",
    "# Assuming the dataset is a CSV file\n",
    "# Replace 'your_dataset.csv' with the actual file name or path\n",
    "df = pd.read_csv('DATA/COKE.csv')\n",
    "\n",
    "# Displaying the first few rows of the dataset\n",
    "df.head()\n"
   ]
  },
  {
   "cell_type": "markdown",
   "id": "513d923a-96a6-46df-a023-44bd886aed37",
   "metadata": {},
   "source": [
    "<font face=\"Arial\" size=\"4\">Basic Description</font>"
   ]
  },
  {
   "cell_type": "markdown",
   "id": "43e25982-8666-4bf3-b90c-5c0d9a9fb6a3",
   "metadata": {},
   "source": [
    "Data set includes 1258 entries and has no holes."
   ]
  },
  {
   "cell_type": "code",
   "execution_count": null,
   "id": "158f0409-b75b-47c1-9c71-30f6812837e4",
   "metadata": {},
   "outputs": [],
   "source": [
    "# Shape of the dataset\n",
    "print(\"Dataset Shape:\", df.shape)\n",
    "\n",
    "# Data types of the columns\n",
    "print(\"\\nData Types:\\n\", df.dtypes)\n",
    "\n",
    "# Checking for missing values\n",
    "print(\"\\nMissing Values:\\n\", df.isnull().sum())"
   ]
  },
  {
   "cell_type": "markdown",
   "id": "c92f6d51-b09d-4736-b0a8-747540c75dde",
   "metadata": {},
   "source": [
    "<font face=\"Arial\" size=\"4\">Descriptive Statistics</font>"
   ]
  },
  {
   "cell_type": "markdown",
   "id": "6c2da7bb-fab3-4339-ac2e-0b5ac60c8b77",
   "metadata": {},
   "source": [
    "The standard variation shows moderate volitality. Since it is around the $105-$107 range. The maximum volume of shares traded in a single day was much higher than the average at 11,970,000, indicating a day of particularly high trading activity. The prices (Open, High, Low, Close, and Adjusted Close) are quite close together. This could mean that on most days there wasn't a signficant difference in opening and closing days."
   ]
  },
  {
   "cell_type": "code",
   "execution_count": 2,
   "id": "13ce479a-e5bb-45ad-8cc9-cf614659ea45",
   "metadata": {},
   "outputs": [
    {
     "data": {
      "text/html": [
       "<div>\n",
       "<style scoped>\n",
       "    .dataframe tbody tr th:only-of-type {\n",
       "        vertical-align: middle;\n",
       "    }\n",
       "\n",
       "    .dataframe tbody tr th {\n",
       "        vertical-align: top;\n",
       "    }\n",
       "\n",
       "    .dataframe thead th {\n",
       "        text-align: right;\n",
       "    }\n",
       "</style>\n",
       "<table border=\"1\" class=\"dataframe\">\n",
       "  <thead>\n",
       "    <tr style=\"text-align: right;\">\n",
       "      <th></th>\n",
       "      <th>Open</th>\n",
       "      <th>High</th>\n",
       "      <th>Low</th>\n",
       "      <th>Close</th>\n",
       "      <th>Adj Close</th>\n",
       "      <th>Volume</th>\n",
       "    </tr>\n",
       "  </thead>\n",
       "  <tbody>\n",
       "    <tr>\n",
       "      <th>count</th>\n",
       "      <td>1258.000000</td>\n",
       "      <td>1258.000000</td>\n",
       "      <td>1258.000000</td>\n",
       "      <td>1258.000000</td>\n",
       "      <td>1258.000000</td>\n",
       "      <td>1258.000000</td>\n",
       "    </tr>\n",
       "    <tr>\n",
       "      <th>mean</th>\n",
       "      <td>417.016565</td>\n",
       "      <td>423.594881</td>\n",
       "      <td>410.600135</td>\n",
       "      <td>417.029698</td>\n",
       "      <td>412.963924</td>\n",
       "      <td>42068.918919</td>\n",
       "    </tr>\n",
       "    <tr>\n",
       "      <th>std</th>\n",
       "      <td>163.925650</td>\n",
       "      <td>166.128775</td>\n",
       "      <td>161.957744</td>\n",
       "      <td>164.127473</td>\n",
       "      <td>165.077853</td>\n",
       "      <td>38409.532871</td>\n",
       "    </tr>\n",
       "    <tr>\n",
       "      <th>min</th>\n",
       "      <td>192.300003</td>\n",
       "      <td>200.330002</td>\n",
       "      <td>188.080002</td>\n",
       "      <td>192.570007</td>\n",
       "      <td>189.199829</td>\n",
       "      <td>4700.000000</td>\n",
       "    </tr>\n",
       "    <tr>\n",
       "      <th>25%</th>\n",
       "      <td>273.712501</td>\n",
       "      <td>277.812500</td>\n",
       "      <td>271.272492</td>\n",
       "      <td>274.067505</td>\n",
       "      <td>269.370819</td>\n",
       "      <td>25900.000000</td>\n",
       "    </tr>\n",
       "    <tr>\n",
       "      <th>50%</th>\n",
       "      <td>395.080002</td>\n",
       "      <td>401.380005</td>\n",
       "      <td>391.804993</td>\n",
       "      <td>396.125000</td>\n",
       "      <td>391.479416</td>\n",
       "      <td>34900.000000</td>\n",
       "    </tr>\n",
       "    <tr>\n",
       "      <th>75%</th>\n",
       "      <td>529.662491</td>\n",
       "      <td>538.227509</td>\n",
       "      <td>520.022522</td>\n",
       "      <td>530.769989</td>\n",
       "      <td>528.686570</td>\n",
       "      <td>47375.000000</td>\n",
       "    </tr>\n",
       "    <tr>\n",
       "      <th>max</th>\n",
       "      <td>953.559998</td>\n",
       "      <td>961.909973</td>\n",
       "      <td>929.000000</td>\n",
       "      <td>949.000000</td>\n",
       "      <td>949.000000</td>\n",
       "      <td>989600.000000</td>\n",
       "    </tr>\n",
       "  </tbody>\n",
       "</table>\n",
       "</div>"
      ],
      "text/plain": [
       "              Open         High          Low        Close    Adj Close  \\\n",
       "count  1258.000000  1258.000000  1258.000000  1258.000000  1258.000000   \n",
       "mean    417.016565   423.594881   410.600135   417.029698   412.963924   \n",
       "std     163.925650   166.128775   161.957744   164.127473   165.077853   \n",
       "min     192.300003   200.330002   188.080002   192.570007   189.199829   \n",
       "25%     273.712501   277.812500   271.272492   274.067505   269.370819   \n",
       "50%     395.080002   401.380005   391.804993   396.125000   391.479416   \n",
       "75%     529.662491   538.227509   520.022522   530.769989   528.686570   \n",
       "max     953.559998   961.909973   929.000000   949.000000   949.000000   \n",
       "\n",
       "              Volume  \n",
       "count    1258.000000  \n",
       "mean    42068.918919  \n",
       "std     38409.532871  \n",
       "min      4700.000000  \n",
       "25%     25900.000000  \n",
       "50%     34900.000000  \n",
       "75%     47375.000000  \n",
       "max    989600.000000  "
      ]
     },
     "execution_count": 2,
     "metadata": {},
     "output_type": "execute_result"
    }
   ],
   "source": [
    "# Descriptive staatistics\n",
    "df.describe()"
   ]
  },
  {
   "cell_type": "markdown",
   "id": "f74524d3-8602-4f3a-b0b2-89c2ba0f56d0",
   "metadata": {},
   "source": [
    "<font face=\"Arial\" size=\"4\">Data Distribution</font>"
   ]
  },
  {
   "cell_type": "markdown",
   "id": "18e38c1a-2177-4798-9247-479208242229",
   "metadata": {},
   "source": [
    "The histogram for Volume is right skewed, indicating trading days have lower volume. \n",
    "The rest of the histograms also show a right skew, indicating that the stock prices were frequently lower. \n",
    "\n",
    "For every histogram besides Volume the whiskers extend past the range indicating some potential outliers. "
   ]
  },
  {
   "cell_type": "code",
   "execution_count": 3,
   "id": "3d092edf-5c45-42c7-b557-b6ff427abc5a",
   "metadata": {},
   "outputs": [
    {
     "data": {
      "image/png": "[encoded data removed]",
      "text/plain": [
       "<Figure size 1500x1000 with 6 Axes>"
      ]
     },
     "metadata": {},
     "output_type": "display_data"
    },
    {
     "data": {
      "image/png": "[encoded data removed]",
      "text/plain": [
       "<Figure size 1200x800 with 49 Axes>"
      ]
     },
     "metadata": {},
     "output_type": "display_data"
    }
   ],
   "source": [
    "# Histograms for all numeric columns\n",
    "df.hist(bins=20, figsize=(15, 10))\n",
    "plt.show()\n",
    "\n",
    "# Box plots for all numeric columns\n",
    "df.plot(kind='box', subplots=True, layout=(7,7), figsize=(12, 8))\n",
    "plt.show()"
   ]
  },
  {
   "cell_type": "markdown",
   "id": "6b94b1ea-875f-46c7-a59b-af8975f035af",
   "metadata": {},
   "source": [
    "<font face=\"Arial\" size=\"4\">Correlation Analysis</font>"
   ]
  },
  {
   "cell_type": "markdown",
   "id": "66d724e5-1fa7-4b77-9e96-4fa732bc5088",
   "metadata": {},
   "source": [
    "Correlation matrix confirms that the stock price related features are so close together that we can simply merge these into a single column by averaging\n",
    "these values for each row, which will give us our target variable."
   ]
  },
  {
   "cell_type": "code",
   "execution_count": 4,
   "id": "6488f06a-7ea9-4f46-8183-e16e7f2405b4",
   "metadata": {},
   "outputs": [
    {
     "data": {
      "image/png": "[encoded data removed]",
      "text/plain": [
       "<Figure size 800x600 with 2 Axes>"
      ]
     },
     "metadata": {},
     "output_type": "display_data"
    }
   ],
   "source": [
    "numerical_df = df.select_dtypes(include=[np.number])\n",
    "\n",
    "# Correlation matrix\n",
    "corr_matrix = numerical_df.corr()\n",
    "\n",
    "# Heatmap of the correlation matrix\n",
    "plt.figure(figsize=(8, 6))\n",
    "sns.heatmap(corr_matrix, annot=True, cmap='coolwarm')\n",
    "plt.title('Correlation Matrix')\n",
    "plt.show()"
   ]
  },
  {
   "cell_type": "markdown",
   "id": "f130ff4d-90cd-4f37-86e0-57405bace166",
   "metadata": {},
   "source": [
    "# Data Preprocessing"
   ]
  },
  {
   "cell_type": "markdown",
   "id": "33eaa0b4-204c-4348-a5ac-429b93829a03",
   "metadata": {},
   "source": [
    "Create a new column made up of the averages of the columns associated with stock price."
   ]
  },
  {
   "cell_type": "code",
   "execution_count": 5,
   "id": "7c50d3f5-6ad2-4bea-9e88-e47047f2b4ea",
   "metadata": {},
   "outputs": [
    {
     "data": {
      "text/html": [
       "<div>\n",
       "<style scoped>\n",
       "    .dataframe tbody tr th:only-of-type {\n",
       "        vertical-align: middle;\n",
       "    }\n",
       "\n",
       "    .dataframe tbody tr th {\n",
       "        vertical-align: top;\n",
       "    }\n",
       "\n",
       "    .dataframe thead th {\n",
       "        text-align: right;\n",
       "    }\n",
       "</style>\n",
       "<table border=\"1\" class=\"dataframe\">\n",
       "  <thead>\n",
       "    <tr style=\"text-align: right;\">\n",
       "      <th></th>\n",
       "      <th>Date</th>\n",
       "      <th>Open</th>\n",
       "      <th>High</th>\n",
       "      <th>Low</th>\n",
       "      <th>Close</th>\n",
       "      <th>Adj Close</th>\n",
       "      <th>Volume</th>\n",
       "      <th>Average Price</th>\n",
       "    </tr>\n",
       "  </thead>\n",
       "  <tbody>\n",
       "    <tr>\n",
       "      <th>0</th>\n",
       "      <td>2019-01-22</td>\n",
       "      <td>208.000000</td>\n",
       "      <td>209.500000</td>\n",
       "      <td>204.270004</td>\n",
       "      <td>208.110001</td>\n",
       "      <td>203.525024</td>\n",
       "      <td>22300</td>\n",
       "      <td>206.681006</td>\n",
       "    </tr>\n",
       "    <tr>\n",
       "      <th>1</th>\n",
       "      <td>2019-01-23</td>\n",
       "      <td>207.619995</td>\n",
       "      <td>214.429993</td>\n",
       "      <td>205.759995</td>\n",
       "      <td>213.809998</td>\n",
       "      <td>209.099426</td>\n",
       "      <td>20900</td>\n",
       "      <td>210.143881</td>\n",
       "    </tr>\n",
       "    <tr>\n",
       "      <th>2</th>\n",
       "      <td>2019-01-24</td>\n",
       "      <td>212.080002</td>\n",
       "      <td>216.639999</td>\n",
       "      <td>210.850006</td>\n",
       "      <td>213.759995</td>\n",
       "      <td>209.295258</td>\n",
       "      <td>17300</td>\n",
       "      <td>212.525052</td>\n",
       "    </tr>\n",
       "    <tr>\n",
       "      <th>3</th>\n",
       "      <td>2019-01-25</td>\n",
       "      <td>213.210007</td>\n",
       "      <td>217.949997</td>\n",
       "      <td>211.199997</td>\n",
       "      <td>211.619995</td>\n",
       "      <td>207.199966</td>\n",
       "      <td>26600</td>\n",
       "      <td>212.235992</td>\n",
       "    </tr>\n",
       "    <tr>\n",
       "      <th>4</th>\n",
       "      <td>2019-01-28</td>\n",
       "      <td>212.000000</td>\n",
       "      <td>213.169998</td>\n",
       "      <td>203.809998</td>\n",
       "      <td>211.360001</td>\n",
       "      <td>206.945358</td>\n",
       "      <td>17300</td>\n",
       "      <td>209.457071</td>\n",
       "    </tr>\n",
       "  </tbody>\n",
       "</table>\n",
       "</div>"
      ],
      "text/plain": [
       "         Date        Open        High         Low       Close   Adj Close  \\\n",
       "0  2019-01-22  208.000000  209.500000  204.270004  208.110001  203.525024   \n",
       "1  2019-01-23  207.619995  214.429993  205.759995  213.809998  209.099426   \n",
       "2  2019-01-24  212.080002  216.639999  210.850006  213.759995  209.295258   \n",
       "3  2019-01-25  213.210007  217.949997  211.199997  211.619995  207.199966   \n",
       "4  2019-01-28  212.000000  213.169998  203.809998  211.360001  206.945358   \n",
       "\n",
       "   Volume  Average Price  \n",
       "0   22300     206.681006  \n",
       "1   20900     210.143881  \n",
       "2   17300     212.525052  \n",
       "3   26600     212.235992  \n",
       "4   17300     209.457071  "
      ]
     },
     "execution_count": 5,
     "metadata": {},
     "output_type": "execute_result"
    }
   ],
   "source": [
    "# Create a new column 'average_column' containing the average of the four columns\n",
    "df['Average Price'] = df[['Open', 'Close', 'High', 'Low', 'Adj Close']].mean(axis=1)\n",
    "df.head()"
   ]
  },
  {
   "cell_type": "markdown",
   "id": "0b3a65a1-680e-44e8-95ed-9c4ef51dd439",
   "metadata": {},
   "source": [
    "Create 3 columns for temporal data 'Day', 'Month', 'year'."
   ]
  },
  {
   "cell_type": "code",
   "execution_count": 6,
   "id": "21b09faa-bee0-44b6-bb68-61e35cab9751",
   "metadata": {},
   "outputs": [
    {
     "data": {
      "text/html": [
       "<div>\n",
       "<style scoped>\n",
       "    .dataframe tbody tr th:only-of-type {\n",
       "        vertical-align: middle;\n",
       "    }\n",
       "\n",
       "    .dataframe tbody tr th {\n",
       "        vertical-align: top;\n",
       "    }\n",
       "\n",
       "    .dataframe thead th {\n",
       "        text-align: right;\n",
       "    }\n",
       "</style>\n",
       "<table border=\"1\" class=\"dataframe\">\n",
       "  <thead>\n",
       "    <tr style=\"text-align: right;\">\n",
       "      <th></th>\n",
       "      <th>Date</th>\n",
       "      <th>Open</th>\n",
       "      <th>High</th>\n",
       "      <th>Low</th>\n",
       "      <th>Close</th>\n",
       "      <th>Adj Close</th>\n",
       "      <th>Volume</th>\n",
       "      <th>Average Price</th>\n",
       "      <th>Day</th>\n",
       "      <th>Month</th>\n",
       "      <th>year</th>\n",
       "    </tr>\n",
       "  </thead>\n",
       "  <tbody>\n",
       "    <tr>\n",
       "      <th>0</th>\n",
       "      <td>2019-01-22</td>\n",
       "      <td>208.000000</td>\n",
       "      <td>209.500000</td>\n",
       "      <td>204.270004</td>\n",
       "      <td>208.110001</td>\n",
       "      <td>203.525024</td>\n",
       "      <td>22300</td>\n",
       "      <td>206.681006</td>\n",
       "      <td>22</td>\n",
       "      <td>1</td>\n",
       "      <td>2019</td>\n",
       "    </tr>\n",
       "    <tr>\n",
       "      <th>1</th>\n",
       "      <td>2019-01-23</td>\n",
       "      <td>207.619995</td>\n",
       "      <td>214.429993</td>\n",
       "      <td>205.759995</td>\n",
       "      <td>213.809998</td>\n",
       "      <td>209.099426</td>\n",
       "      <td>20900</td>\n",
       "      <td>210.143881</td>\n",
       "      <td>23</td>\n",
       "      <td>1</td>\n",
       "      <td>2019</td>\n",
       "    </tr>\n",
       "    <tr>\n",
       "      <th>2</th>\n",
       "      <td>2019-01-24</td>\n",
       "      <td>212.080002</td>\n",
       "      <td>216.639999</td>\n",
       "      <td>210.850006</td>\n",
       "      <td>213.759995</td>\n",
       "      <td>209.295258</td>\n",
       "      <td>17300</td>\n",
       "      <td>212.525052</td>\n",
       "      <td>24</td>\n",
       "      <td>1</td>\n",
       "      <td>2019</td>\n",
       "    </tr>\n",
       "    <tr>\n",
       "      <th>3</th>\n",
       "      <td>2019-01-25</td>\n",
       "      <td>213.210007</td>\n",
       "      <td>217.949997</td>\n",
       "      <td>211.199997</td>\n",
       "      <td>211.619995</td>\n",
       "      <td>207.199966</td>\n",
       "      <td>26600</td>\n",
       "      <td>212.235992</td>\n",
       "      <td>25</td>\n",
       "      <td>1</td>\n",
       "      <td>2019</td>\n",
       "    </tr>\n",
       "    <tr>\n",
       "      <th>4</th>\n",
       "      <td>2019-01-28</td>\n",
       "      <td>212.000000</td>\n",
       "      <td>213.169998</td>\n",
       "      <td>203.809998</td>\n",
       "      <td>211.360001</td>\n",
       "      <td>206.945358</td>\n",
       "      <td>17300</td>\n",
       "      <td>209.457071</td>\n",
       "      <td>28</td>\n",
       "      <td>1</td>\n",
       "      <td>2019</td>\n",
       "    </tr>\n",
       "  </tbody>\n",
       "</table>\n",
       "</div>"
      ],
      "text/plain": [
       "        Date        Open        High         Low       Close   Adj Close  \\\n",
       "0 2019-01-22  208.000000  209.500000  204.270004  208.110001  203.525024   \n",
       "1 2019-01-23  207.619995  214.429993  205.759995  213.809998  209.099426   \n",
       "2 2019-01-24  212.080002  216.639999  210.850006  213.759995  209.295258   \n",
       "3 2019-01-25  213.210007  217.949997  211.199997  211.619995  207.199966   \n",
       "4 2019-01-28  212.000000  213.169998  203.809998  211.360001  206.945358   \n",
       "\n",
       "   Volume  Average Price  Day  Month  year  \n",
       "0   22300     206.681006   22      1  2019  \n",
       "1   20900     210.143881   23      1  2019  \n",
       "2   17300     212.525052   24      1  2019  \n",
       "3   26600     212.235992   25      1  2019  \n",
       "4   17300     209.457071   28      1  2019  "
      ]
     },
     "execution_count": 6,
     "metadata": {},
     "output_type": "execute_result"
    }
   ],
   "source": [
    "import pandas as pd\n",
    "\n",
    "# Assuming 'date_column' is the column containing date strings in 'YYYY-MM-DD' format\n",
    "df['Date'] = pd.to_datetime(df['Date'])\n",
    "\n",
    "# Extract year, month, and day\n",
    "df['Day'] = df['Date'].dt.day\n",
    "df['Month'] = df['Date'].dt.month\n",
    "df['year'] = df['Date'].dt.year\n",
    "# Display the updated DataFrame\n",
    "df.head()\n"
   ]
  },
  {
   "cell_type": "markdown",
   "id": "71d8f284-b324-4dec-9824-61cab03825dd",
   "metadata": {},
   "source": [
    "Create a new column representing the previous price."
   ]
  },
  {
   "cell_type": "code",
   "execution_count": 7,
   "id": "cffbbeb3-5270-42a3-8b68-a9f125f622b7",
   "metadata": {},
   "outputs": [
    {
     "data": {
      "text/html": [
       "<div>\n",
       "<style scoped>\n",
       "    .dataframe tbody tr th:only-of-type {\n",
       "        vertical-align: middle;\n",
       "    }\n",
       "\n",
       "    .dataframe tbody tr th {\n",
       "        vertical-align: top;\n",
       "    }\n",
       "\n",
       "    .dataframe thead th {\n",
       "        text-align: right;\n",
       "    }\n",
       "</style>\n",
       "<table border=\"1\" class=\"dataframe\">\n",
       "  <thead>\n",
       "    <tr style=\"text-align: right;\">\n",
       "      <th></th>\n",
       "      <th>Date</th>\n",
       "      <th>Open</th>\n",
       "      <th>High</th>\n",
       "      <th>Low</th>\n",
       "      <th>Close</th>\n",
       "      <th>Adj Close</th>\n",
       "      <th>Volume</th>\n",
       "      <th>Average Price</th>\n",
       "      <th>Day</th>\n",
       "      <th>Month</th>\n",
       "      <th>year</th>\n",
       "      <th>Previous Price</th>\n",
       "    </tr>\n",
       "  </thead>\n",
       "  <tbody>\n",
       "    <tr>\n",
       "      <th>0</th>\n",
       "      <td>2019-01-22</td>\n",
       "      <td>208.000000</td>\n",
       "      <td>209.500000</td>\n",
       "      <td>204.270004</td>\n",
       "      <td>208.110001</td>\n",
       "      <td>203.525024</td>\n",
       "      <td>22300</td>\n",
       "      <td>206.681006</td>\n",
       "      <td>22</td>\n",
       "      <td>1</td>\n",
       "      <td>2019</td>\n",
       "      <td>206.681006</td>\n",
       "    </tr>\n",
       "    <tr>\n",
       "      <th>1</th>\n",
       "      <td>2019-01-23</td>\n",
       "      <td>207.619995</td>\n",
       "      <td>214.429993</td>\n",
       "      <td>205.759995</td>\n",
       "      <td>213.809998</td>\n",
       "      <td>209.099426</td>\n",
       "      <td>20900</td>\n",
       "      <td>210.143881</td>\n",
       "      <td>23</td>\n",
       "      <td>1</td>\n",
       "      <td>2019</td>\n",
       "      <td>206.681006</td>\n",
       "    </tr>\n",
       "    <tr>\n",
       "      <th>2</th>\n",
       "      <td>2019-01-24</td>\n",
       "      <td>212.080002</td>\n",
       "      <td>216.639999</td>\n",
       "      <td>210.850006</td>\n",
       "      <td>213.759995</td>\n",
       "      <td>209.295258</td>\n",
       "      <td>17300</td>\n",
       "      <td>212.525052</td>\n",
       "      <td>24</td>\n",
       "      <td>1</td>\n",
       "      <td>2019</td>\n",
       "      <td>210.143881</td>\n",
       "    </tr>\n",
       "    <tr>\n",
       "      <th>3</th>\n",
       "      <td>2019-01-25</td>\n",
       "      <td>213.210007</td>\n",
       "      <td>217.949997</td>\n",
       "      <td>211.199997</td>\n",
       "      <td>211.619995</td>\n",
       "      <td>207.199966</td>\n",
       "      <td>26600</td>\n",
       "      <td>212.235992</td>\n",
       "      <td>25</td>\n",
       "      <td>1</td>\n",
       "      <td>2019</td>\n",
       "      <td>212.525052</td>\n",
       "    </tr>\n",
       "    <tr>\n",
       "      <th>4</th>\n",
       "      <td>2019-01-28</td>\n",
       "      <td>212.000000</td>\n",
       "      <td>213.169998</td>\n",
       "      <td>203.809998</td>\n",
       "      <td>211.360001</td>\n",
       "      <td>206.945358</td>\n",
       "      <td>17300</td>\n",
       "      <td>209.457071</td>\n",
       "      <td>28</td>\n",
       "      <td>1</td>\n",
       "      <td>2019</td>\n",
       "      <td>212.235992</td>\n",
       "    </tr>\n",
       "  </tbody>\n",
       "</table>\n",
       "</div>"
      ],
      "text/plain": [
       "        Date        Open        High         Low       Close   Adj Close  \\\n",
       "0 2019-01-22  208.000000  209.500000  204.270004  208.110001  203.525024   \n",
       "1 2019-01-23  207.619995  214.429993  205.759995  213.809998  209.099426   \n",
       "2 2019-01-24  212.080002  216.639999  210.850006  213.759995  209.295258   \n",
       "3 2019-01-25  213.210007  217.949997  211.199997  211.619995  207.199966   \n",
       "4 2019-01-28  212.000000  213.169998  203.809998  211.360001  206.945358   \n",
       "\n",
       "   Volume  Average Price  Day  Month  year  Previous Price  \n",
       "0   22300     206.681006   22      1  2019      206.681006  \n",
       "1   20900     210.143881   23      1  2019      206.681006  \n",
       "2   17300     212.525052   24      1  2019      210.143881  \n",
       "3   26600     212.235992   25      1  2019      212.525052  \n",
       "4   17300     209.457071   28      1  2019      212.235992  "
      ]
     },
     "execution_count": 7,
     "metadata": {},
     "output_type": "execute_result"
    }
   ],
   "source": [
    "# Create the 'Previous Price' column\n",
    "df['Previous Price'] = df['Average Price'].shift(1)\n",
    "df.at[0, 'Previous Price'] = df.at[0, 'Average Price']\n",
    "df.head()"
   ]
  },
  {
   "cell_type": "markdown",
   "id": "a739ec01-b66b-4269-a947-b05b4ed88ebe",
   "metadata": {},
   "source": [
    "Since the model is designed to predict future stock prices of a company, rather than randomly splitting the data we chose to predict a full year. This allows us to run a more practical test on our model."
   ]
  },
  {
   "cell_type": "code",
   "execution_count": 11,
   "id": "8f2f1eb7-f1be-481e-bd6c-b918d21c6b6e",
   "metadata": {},
   "outputs": [
    {
     "data": {
      "text/html": [
       "<div>\n",
       "<style scoped>\n",
       "    .dataframe tbody tr th:only-of-type {\n",
       "        vertical-align: middle;\n",
       "    }\n",
       "\n",
       "    .dataframe tbody tr th {\n",
       "        vertical-align: top;\n",
       "    }\n",
       "\n",
       "    .dataframe thead th {\n",
       "        text-align: right;\n",
       "    }\n",
       "</style>\n",
       "<table border=\"1\" class=\"dataframe\">\n",
       "  <thead>\n",
       "    <tr style=\"text-align: right;\">\n",
       "      <th></th>\n",
       "      <th>Date</th>\n",
       "      <th>Open</th>\n",
       "      <th>High</th>\n",
       "      <th>Low</th>\n",
       "      <th>Close</th>\n",
       "      <th>Adj Close</th>\n",
       "      <th>Volume</th>\n",
       "      <th>Average Price</th>\n",
       "      <th>Day</th>\n",
       "      <th>Month</th>\n",
       "      <th>year</th>\n",
       "      <th>Previous Price</th>\n",
       "    </tr>\n",
       "  </thead>\n",
       "  <tbody>\n",
       "    <tr>\n",
       "      <th>995</th>\n",
       "      <td>2023-01-03</td>\n",
       "      <td>515.409973</td>\n",
       "      <td>517.419983</td>\n",
       "      <td>470.000000</td>\n",
       "      <td>476.660004</td>\n",
       "      <td>472.182373</td>\n",
       "      <td>60800</td>\n",
       "      <td>490.334467</td>\n",
       "      <td>3</td>\n",
       "      <td>1</td>\n",
       "      <td>2023</td>\n",
       "      <td>513.461395</td>\n",
       "    </tr>\n",
       "    <tr>\n",
       "      <th>996</th>\n",
       "      <td>2023-01-04</td>\n",
       "      <td>479.149994</td>\n",
       "      <td>487.339996</td>\n",
       "      <td>472.000000</td>\n",
       "      <td>486.000000</td>\n",
       "      <td>481.434631</td>\n",
       "      <td>47400</td>\n",
       "      <td>481.184924</td>\n",
       "      <td>4</td>\n",
       "      <td>1</td>\n",
       "      <td>2023</td>\n",
       "      <td>490.334467</td>\n",
       "    </tr>\n",
       "    <tr>\n",
       "      <th>997</th>\n",
       "      <td>2023-01-05</td>\n",
       "      <td>484.910004</td>\n",
       "      <td>498.369995</td>\n",
       "      <td>479.100006</td>\n",
       "      <td>483.769989</td>\n",
       "      <td>479.225525</td>\n",
       "      <td>43200</td>\n",
       "      <td>485.075104</td>\n",
       "      <td>5</td>\n",
       "      <td>1</td>\n",
       "      <td>2023</td>\n",
       "      <td>481.184924</td>\n",
       "    </tr>\n",
       "    <tr>\n",
       "      <th>998</th>\n",
       "      <td>2023-01-06</td>\n",
       "      <td>485.049988</td>\n",
       "      <td>504.149994</td>\n",
       "      <td>483.510010</td>\n",
       "      <td>500.000000</td>\n",
       "      <td>495.303101</td>\n",
       "      <td>26200</td>\n",
       "      <td>493.602619</td>\n",
       "      <td>6</td>\n",
       "      <td>1</td>\n",
       "      <td>2023</td>\n",
       "      <td>485.075104</td>\n",
       "    </tr>\n",
       "    <tr>\n",
       "      <th>999</th>\n",
       "      <td>2023-01-09</td>\n",
       "      <td>501.279999</td>\n",
       "      <td>506.179993</td>\n",
       "      <td>488.589996</td>\n",
       "      <td>490.510010</td>\n",
       "      <td>485.902252</td>\n",
       "      <td>30100</td>\n",
       "      <td>494.492450</td>\n",
       "      <td>9</td>\n",
       "      <td>1</td>\n",
       "      <td>2023</td>\n",
       "      <td>493.602619</td>\n",
       "    </tr>\n",
       "  </tbody>\n",
       "</table>\n",
       "</div>"
      ],
      "text/plain": [
       "          Date        Open        High         Low       Close   Adj Close  \\\n",
       "995 2023-01-03  515.409973  517.419983  470.000000  476.660004  472.182373   \n",
       "996 2023-01-04  479.149994  487.339996  472.000000  486.000000  481.434631   \n",
       "997 2023-01-05  484.910004  498.369995  479.100006  483.769989  479.225525   \n",
       "998 2023-01-06  485.049988  504.149994  483.510010  500.000000  495.303101   \n",
       "999 2023-01-09  501.279999  506.179993  488.589996  490.510010  485.902252   \n",
       "\n",
       "     Volume  Average Price  Day  Month  year  Previous Price  \n",
       "995   60800     490.334467    3      1  2023      513.461395  \n",
       "996   47400     481.184924    4      1  2023      490.334467  \n",
       "997   43200     485.075104    5      1  2023      481.184924  \n",
       "998   26200     493.602619    6      1  2023      485.075104  \n",
       "999   30100     494.492450    9      1  2023      493.602619  "
      ]
     },
     "execution_count": 11,
     "metadata": {},
     "output_type": "execute_result"
    }
   ],
   "source": [
    "from sklearn.model_selection import train_test_split, cross_val_score, KFold\n",
    "from sklearn.preprocessing import StandardScaler\n",
    "\n",
    "# Assuming 'Date' is your date column\n",
    "cutoff_date = pd.to_datetime('2023-01-01')  # Adjust the cutoff date as needed\n",
    "\n",
    "train_set = df[df['Date'] < cutoff_date]\n",
    "test_set = df[df['Date'] >= cutoff_date]\n",
    "\n",
    "# Features and target for training set\n",
    "X_train = train_set[['Month', 'Day', 'year', 'Previous Price']]\n",
    "y_train = train_set['Average Price']\n",
    "\n",
    "# Features and target for testing set\n",
    "X_test = test_set[['Month', 'Day', 'year', 'Previous Price']]\n",
    "y_test = test_set['Average Price']\n",
    "\n",
    "test_set.head()"
   ]
  },
  {
   "cell_type": "markdown",
   "id": "6ffc9348-d302-4945-90d6-544d9c66c893",
   "metadata": {},
   "source": [
    "# Analytical Model Description"
   ]
  },
  {
   "cell_type": "markdown",
   "id": "62ce3cd5-9635-4852-b5f0-70047c6ea0ef",
   "metadata": {},
   "source": [
    "We will use a multiple linear regression model to predict the Open price of a stock based on historical data. The features taken into account will be Day, Month, year, and Previous Price. Which are presumed to influence the stock. The general idea of linear regression is to tie a coefficient to each feature and keep changing the coefficient until you get the combination of coefficients that yield the best result."
   ]
  },
  {
   "cell_type": "markdown",
   "id": "dc90aa23-47b6-4e6e-a5a6-a8897597e0db",
   "metadata": {},
   "source": [
    "<math xmlns=\"http://www.w3.org/1998/Math/MathML\">\n",
    "  <mrow>\n",
    "    <mi>Y</mi>\n",
    "    <mo>=</mo>\n",
    "    <msub>\n",
    "      <mi>β</mi>\n",
    "      <mn>0</mn>\n",
    "    </msub>\n",
    "    <mo>+</mo>\n",
    "    <msub>\n",
    "      <mi>β</mi>\n",
    "      <mn>1</mn>\n",
    "    </msub>\n",
    "    <msup>\n",
    "      <mi>X</mi>\n",
    "      <mn>1</mn>\n",
    "    </msup>\n",
    "    <mo>+</mo>\n",
    "    <msub>\n",
    "      <mi>β</mi>\n",
    "      <mn>2</mn>\n",
    "    </msub>\n",
    "    <msup>\n",
    "      <mi>X</mi>\n",
    "      <mn>2</mn>\n",
    "    </msup>\n",
    "    <mo>+</mo>\n",
    "    <mo>…</mo>\n",
    "    <mo>+</mo>\n",
    "    <msub>\n",
    "      <mi>β</mi>\n",
    "      <mi>p</mi>\n",
    "    </msub>\n",
    "    <msup>\n",
    "      <mi>X</mi>\n",
    "      <mi>p</mi>\n",
    "    </msup>\n",
    "    <mo>+</mo>\n",
    "    <mi>ϵ</mi>\n",
    "  </mrow>\n",
    "</math>\n"
   ]
  },
  {
   "cell_type": "markdown",
   "id": "4588da1f-95fa-40c7-bc1b-6f76d7bec221",
   "metadata": {},
   "source": [
    "In this model \n",
    "Y is the dependent variable\n",
    "β is the coefficient\n",
    "X is the independent variable/feature(s)\n",
    "ϵ is the error term"
   ]
  },
  {
   "cell_type": "markdown",
   "id": "103ae337-57aa-4b53-992b-01d8dcb12ade",
   "metadata": {},
   "source": [
    "# Architectural Model"
   ]
  },
  {
   "cell_type": "markdown",
   "id": "1e819a35-5be1-4a47-9a0e-44e49f9cca4c",
   "metadata": {},
   "source": [
    "The data has been collected and preprocessed. We chose our features based on relevance. We split the data set training and testing \n",
    "\n",
    "Once trained, the model's performance is evaluated on the testing set using metrics like Mean Squared Error (MSE) or R-squared.\n",
    "\n",
    "The residuals are analyzed to check the model's accuracy and assumptions.\n",
    "\n",
    "The trained model will then be used to make predictions on unseen data. \n",
    "\n",
    "If the model preforms well, then it can be deployed to provide ongoing predictions. "
   ]
  },
  {
   "cell_type": "markdown",
   "id": "a162c09e-65af-40f8-8ee1-226d2642205d",
   "metadata": {},
   "source": [
    "# Model Implementation"
   ]
  },
  {
   "cell_type": "markdown",
   "id": "3f9191db-6f84-430a-8a6b-f43c223507ef",
   "metadata": {},
   "source": [
    "In order to implement the model we used pandas to load in the data, sklearn to build the model, matplotlib to visualize the data, and numpy for mathematical computations"
   ]
  },
  {
   "cell_type": "markdown",
   "id": "9529b621-a82b-4806-b42a-7f3b6c455078",
   "metadata": {},
   "source": [
    "# Assumptions Verification"
   ]
  },
  {
   "cell_type": "markdown",
   "id": "9c9479e2-9475-4582-9f88-3f0fc97f6c08",
   "metadata": {},
   "source": [
    "This model assumes that a company's performance will stay mostly consistent with their past performance and doesn't anticipate any drastic changes. It's important to note that while the historical data is indicative of future performance, it can't take into account unforeseen external events or drastic market changes."
   ]
  },
  {
   "cell_type": "markdown",
   "id": "aafc7899-fc30-4c2b-82c3-5bdc01f307e8",
   "metadata": {},
   "source": [
    "# Deployment"
   ]
  },
  {
   "cell_type": "markdown",
   "id": "6855020a-1c2e-44a2-aa40-4479a8f34180",
   "metadata": {},
   "source": [
    "Our selected features were 'Month', 'Day', 'year', and 'Previous Price'. These combination of features allowed our model to learn patterns regarding time as well as learning patterns regarding how the previous price may affect the current price."
   ]
  },
  {
   "cell_type": "code",
   "execution_count": 12,
   "id": "071e2732-2388-4d99-ba84-815ebdd30858",
   "metadata": {},
   "outputs": [
    {
     "data": {
      "text/html": [
       "<style>#sk-container-id-1 {color: black;}#sk-container-id-1 pre{padding: 0;}#sk-container-id-1 div.sk-toggleable {background-color: white;}#sk-container-id-1 label.sk-toggleable__label {cursor: pointer;display: block;width: 100%;margin-bottom: 0;padding: 0.3em;box-sizing: border-box;text-align: center;}#sk-container-id-1 label.sk-toggleable__label-arrow:before {content: \"▸\";float: left;margin-right: 0.25em;color: #696969;}#sk-container-id-1 label.sk-toggleable__label-arrow:hover:before {color: black;}#sk-container-id-1 div.sk-estimator:hover label.sk-toggleable__label-arrow:before {color: black;}#sk-container-id-1 div.sk-toggleable__content {max-height: 0;max-width: 0;overflow: hidden;text-align: left;background-color: #f0f8ff;}#sk-container-id-1 div.sk-toggleable__content pre {margin: 0.2em;color: black;border-radius: 0.25em;background-color: #f0f8ff;}#sk-container-id-1 input.sk-toggleable__control:checked~div.sk-toggleable__content {max-height: 200px;max-width: 100%;overflow: auto;}#sk-container-id-1 input.sk-toggleable__control:checked~label.sk-toggleable__label-arrow:before {content: \"▾\";}#sk-container-id-1 div.sk-estimator input.sk-toggleable__control:checked~label.sk-toggleable__label {background-color: #d4ebff;}#sk-container-id-1 div.sk-label input.sk-toggleable__control:checked~label.sk-toggleable__label {background-color: #d4ebff;}#sk-container-id-1 input.sk-hidden--visually {border: 0;clip: rect(1px 1px 1px 1px);clip: rect(1px, 1px, 1px, 1px);height: 1px;margin: -1px;overflow: hidden;padding: 0;position: absolute;width: 1px;}#sk-container-id-1 div.sk-estimator {font-family: monospace;background-color: #f0f8ff;border: 1px dotted black;border-radius: 0.25em;box-sizing: border-box;margin-bottom: 0.5em;}#sk-container-id-1 div.sk-estimator:hover {background-color: #d4ebff;}#sk-container-id-1 div.sk-parallel-item::after {content: \"\";width: 100%;border-bottom: 1px solid gray;flex-grow: 1;}#sk-container-id-1 div.sk-label:hover label.sk-toggleable__label {background-color: #d4ebff;}#sk-container-id-1 div.sk-serial::before {content: \"\";position: absolute;border-left: 1px solid gray;box-sizing: border-box;top: 0;bottom: 0;left: 50%;z-index: 0;}#sk-container-id-1 div.sk-serial {display: flex;flex-direction: column;align-items: center;background-color: white;padding-right: 0.2em;padding-left: 0.2em;position: relative;}#sk-container-id-1 div.sk-item {position: relative;z-index: 1;}#sk-container-id-1 div.sk-parallel {display: flex;align-items: stretch;justify-content: center;background-color: white;position: relative;}#sk-container-id-1 div.sk-item::before, #sk-container-id-1 div.sk-parallel-item::before {content: \"\";position: absolute;border-left: 1px solid gray;box-sizing: border-box;top: 0;bottom: 0;left: 50%;z-index: -1;}#sk-container-id-1 div.sk-parallel-item {display: flex;flex-direction: column;z-index: 1;position: relative;background-color: white;}#sk-container-id-1 div.sk-parallel-item:first-child::after {align-self: flex-end;width: 50%;}#sk-container-id-1 div.sk-parallel-item:last-child::after {align-self: flex-start;width: 50%;}#sk-container-id-1 div.sk-parallel-item:only-child::after {width: 0;}#sk-container-id-1 div.sk-dashed-wrapped {border: 1px dashed gray;margin: 0 0.4em 0.5em 0.4em;box-sizing: border-box;padding-bottom: 0.4em;background-color: white;}#sk-container-id-1 div.sk-label label {font-family: monospace;font-weight: bold;display: inline-block;line-height: 1.2em;}#sk-container-id-1 div.sk-label-container {text-align: center;}#sk-container-id-1 div.sk-container {/* jupyter's `normalize.less` sets `[hidden] { display: none; }` but bootstrap.min.css set `[hidden] { display: none !important; }` so we also need the `!important` here to be able to override the default hidden behavior on the sphinx rendered scikit-learn.org. See: https://github.com/scikit-learn/scikit-learn/issues/21755 */display: inline-block !important;position: relative;}#sk-container-id-1 div.sk-text-repr-fallback {display: none;}</style><div id=\"sk-container-id-1\" class=\"sk-top-container\"><div class=\"sk-text-repr-fallback\"><pre>LinearRegression()</pre><b>In a Jupyter environment, please rerun this cell to show the HTML representation or trust the notebook. <br />On GitHub, the HTML representation is unable to render, please try loading this page with nbviewer.org.</b></div><div class=\"sk-container\" hidden><div class=\"sk-item\"><div class=\"sk-estimator sk-toggleable\"><input class=\"sk-toggleable__control sk-hidden--visually\" id=\"sk-estimator-id-1\" type=\"checkbox\" checked><label for=\"sk-estimator-id-1\" class=\"sk-toggleable__label sk-toggleable__label-arrow\">LinearRegression</label><div class=\"sk-toggleable__content\"><pre>LinearRegression()</pre></div></div></div></div></div>"
      ],
      "text/plain": [
       "LinearRegression()"
      ]
     },
     "execution_count": 12,
     "metadata": {},
     "output_type": "execute_result"
    }
   ],
   "source": [
    "import numpy as np\n",
    "from sklearn.preprocessing import PolynomialFeatures\n",
    "from sklearn.linear_model import LinearRegression\n",
    "from sklearn.pipeline import make_pipeline\n",
    "\n",
    "# Create a linear regression model\n",
    "linear_model = LinearRegression()\n",
    "\n",
    "# Fit the linear model to the training data\n",
    "linear_model.fit(X_train, y_train)"
   ]
  },
  {
   "cell_type": "markdown",
   "id": "a2644b65-3fad-4a5e-9447-6088a3a033e6",
   "metadata": {},
   "source": [
    "# Execution"
   ]
  },
  {
   "cell_type": "markdown",
   "id": "87ff26b1-5289-4e91-9d58-616785820025",
   "metadata": {},
   "source": [
    "Upon visual inspection, the predicted values match the actual values fairly well and the model is seemingly able to predict well for the upper and lower ranges."
   ]
  },
  {
   "cell_type": "code",
   "execution_count": 13,
   "id": "52aa5913-cad9-42f6-92d1-2853f55b267f",
   "metadata": {},
   "outputs": [
    {
     "data": {
      "image/png": "[encoded data removed]",
      "text/plain": [
       "<Figure size 640x480 with 1 Axes>"
      ]
     },
     "metadata": {},
     "output_type": "display_data"
    }
   ],
   "source": [
    "# Make predictions on the testing data\n",
    "y_pred = linear_model.predict(X_test)\n",
    "\n",
    "# Visualize the results (optional)\n",
    "plt.scatter(X_test['Day'], y_test, label='Actual Prices', s = 3)\n",
    "plt.scatter(X_test['Day'], y_pred, label='Predicted Prices', color='red', s = 3)\n",
    "plt.xlabel('Day')\n",
    "plt.ylabel('Average Price')\n",
    "plt.legend()\n",
    "plt.show()"
   ]
  },
  {
   "cell_type": "markdown",
   "id": "1e9907df-722a-4ea3-8812-2286e5dc0b65",
   "metadata": {},
   "source": [
    "# Results"
   ]
  },
  {
   "cell_type": "markdown",
   "id": "2f277c69-7257-42be-b389-23ea1146cce1",
   "metadata": {},
   "source": [
    "The R^2 Score was 0.99. This is very close to one, indicating that our features are properly capturing the variance in our target variable 'Average Price.'"
   ]
  },
  {
   "cell_type": "code",
   "execution_count": 14,
   "id": "d784424f-09bd-4f18-b265-83d26dea3594",
   "metadata": {},
   "outputs": [
    {
     "name": "stdout",
     "output_type": "stream",
     "text": [
      "R-squared (R2): 0.992476402781879\n"
     ]
    }
   ],
   "source": [
    "from sklearn.metrics import mean_absolute_error, r2_score, max_error\n",
    "import numpy as np\n",
    "# R-squared (R2)\n",
    "r2 = r2_score(y_test, y_pred)\n",
    "print(f\"R-squared (R2): {r2}\")\n"
   ]
  },
  {
   "cell_type": "markdown",
   "id": "357db6c1-f267-4b67-9046-2a3d8b7a699f",
   "metadata": {},
   "source": [
    "# Error Estimation"
   ]
  },
  {
   "cell_type": "markdown",
   "id": "9923cabd-711d-4b84-b588-4cddadf97b7e",
   "metadata": {},
   "source": [
    "To contextualize the error, our test set consists of the time period 2023-01-01 to 2024-01-01 which has a range of about 500 - 900. Considering this an average error of 6.5 is very good and a max error of 63 is acceptable. "
   ]
  },
  {
   "cell_type": "code",
   "execution_count": 16,
   "id": "45d5517e-b304-4754-989d-45185eaaac8a",
   "metadata": {},
   "outputs": [
    {
     "data": {
      "image/png": "[encoded data removed]",
      "text/plain": [
       "<Figure size 640x480 with 1 Axes>"
      ]
     },
     "metadata": {},
     "output_type": "display_data"
    },
    {
     "name": "stdout",
     "output_type": "stream",
     "text": [
      "Mean Absolute Error (MAE): 6.52275054847263\n",
      "Max Error (ME): 63.44249787323031\n"
     ]
    }
   ],
   "source": [
    "# Calculate residuals\n",
    "residuals = y_test - y_pred\n",
    "\n",
    "# Plotting the residuals\n",
    "plt.scatter(y_pred, residuals)\n",
    "plt.hlines(y=0, xmin=y_pred.min(), xmax=y_pred.max(), colors='red', linestyles='--')\n",
    "plt.xlabel('Predicted Values')\n",
    "plt.ylabel('Residuals')\n",
    "plt.title('Residual Plot')\n",
    "plt.show()\n",
    "\n",
    "# Mean Absolute Error (MAE)\n",
    "mae = mean_absolute_error(y_test, y_pred)\n",
    "print(f\"Mean Absolute Error (MAE): {mae}\")\n",
    "#max error\n",
    "max_err = max_error(y_test, y_pred)\n",
    "print(f\"Max Error (ME): {max_err}\")"
   ]
  },
  {
   "cell_type": "markdown",
   "id": "9b32a5bf-88a5-418c-9b0f-c8abdee3ca87",
   "metadata": {},
   "source": [
    "# Model Validation"
   ]
  },
  {
   "cell_type": "markdown",
   "id": "f982277a-69cb-49d5-8d74-e325f0af95cb",
   "metadata": {},
   "source": [
    "In order to validate the model we used a practical set of a consecutive year to better the model the intended purpose of the model. This subset of our original data includes the prices for the year 2023 up until the beginning of 2024.\n",
    "\n",
    "Metrics like R^2 and MSE were used to evaluate the model.\n",
    "\n",
    "A residual analysis was conducted to look for an biases. "
   ]
  },
  {
   "cell_type": "markdown",
   "id": "aaacc71b-4f07-4264-89c5-258a015e1768",
   "metadata": {},
   "source": [
    "### Analysis ###\n"
   ]
  },
  {
   "cell_type": "markdown",
   "id": "cc8a9146-4086-42af-ad15-2edac40ec510",
   "metadata": {},
   "source": [
    "The Mean Squared Error (MAE) of 6.52, coupled with an R-squared value of 99%, reflects a model that captures a significant portion of the variance in the 'Open' prices. These performance metrics, particularly the R-squared value being close to 1, indicate a strong predictive power within the scope of the tested data.\n",
    "\n",
    "A closer examination through residual analysis shows a random distribution of residuals around the zero line, with no apparent patterns or systematic deviations. This suggests that the model's predictions are not biased and that the variance of the errors is consistent across the spectrum of predictions.\n",
    "\n",
    "Any minor deviations observed did not materially impact the model's performance, as evidenced by the validation results.\n",
    "\n",
    "In conclusion, our analysis supports the model's effectiveness in a practical financial context. We recommend its use for informed decision-making with the caveat of continuous monitoring and periodic updates to adapt to new market data."
   ]
  },
  {
   "cell_type": "markdown",
   "id": "f533da73-6f62-4579-b69b-da0fc6e242f4",
   "metadata": {},
   "source": [
    "### Model improvement ###\n",
    "\n"
   ]
  },
  {
   "cell_type": "markdown",
   "id": "82d20646-43bd-449c-958a-6f218f7aea8a",
   "metadata": {},
   "source": [
    "In order to improve upon the model we tried various features and determined the overall impact on the model based on the R2 and error metrics. In the end we found that a balance temporal data as well as data regarding previous stock price proved to be most significant with the previous price feature being especially significant. Potential future improvements involve deriving more features from the original data set or getting a feature that more precisely captures seasonal patterns. "
   ]
  },
  {
   "cell_type": "markdown",
   "id": "cd147cf7-1b31-4439-919e-8bbbd2562f93",
   "metadata": {},
   "source": [
    "# Final Conclusion"
   ]
  },
  {
   "cell_type": "markdown",
   "id": "eb044b1e-7fc1-4e70-87de-0c8174072085",
   "metadata": {},
   "source": [
    "To conclude our key finding indicate that the most substantial deatures in predicting future stock prices is both temporal and lagged price data. Our model effectively captured the variance in stock prices with an R2 of about 99% and did so with a mean absolute error of around 6. Although our model captures the data well, it is quite possible that there are other features that can be derived or used to predict a company's performance such as reputation or public opinion (more societal factors). This analysis aids in predicting the performance of a company by analyzing their historical stock prices and predicting future prices. From the Christian Worldview, some factors to consider are: Ethical business practices, social responsibility, and environmental stewardship. This is because Christians are called to be honest, have integrity, and be fair to another, the Golden rule. A qualitative assessment can be  evaluating whether a company's core activities align with Christian values. A quantitative assessment can be  setting ESG(Environmental, Social, Governance) scores are a set of standards for a company's behavior used by socially conscious investors to screen potential investments. They can be used to quantitatively assess non-financial factors. The idea is that investments should not only avoid doing harm but should actively seek to do good, reflecting the broader Christian call to \"love your neighbor as yourself\" A quantitative model could be used to assess the financial viability and the potential social/environmental impact in measurable terms. A qualitative assessment would then be employed to evaluate more subjective factors and ensure that investments align with one's Christian values. For a Christian investor, the decision-making process involves not just seeking profit, but also doing so in a way that is responsible, ethical, and beneficial to others, reflecting the broader values and commandments of their faith."
   ]
  }
 ],
 "metadata": {
  "kernelspec": {
   "display_name": "Python 3 (ipykernel)",
   "language": "python",
   "name": "python3"
  },
  "language_info": {
   "codemirror_mode": {
    "name": "ipython",
    "version": 3
   },
   "file_extension": ".py",
   "mimetype": "text/x-python",
   "name": "python",
   "nbconvert_exporter": "python",
   "pygments_lexer": "ipython3",
   "version": "3.11.5"
  }
 },
 "nbformat": 4,
 "nbformat_minor": 5
}
