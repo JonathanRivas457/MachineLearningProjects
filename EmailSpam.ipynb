{
 "cells": [
  {
   "cell_type": "markdown",
   "metadata": {},
   "source": [
    "# Introduction and Objective"
   ]
  },
  {
   "cell_type": "markdown",
   "metadata": {},
   "source": [
    "Receiving spam emails is a common problem that affects the majority of people and can greatly affect businesses in a targeted attack. Because of this we are developing a naive bayes machine learning model that can classify emails as spam or ham (not spam), with the intention of preventing spam emails from being seen by recipients."
   ]
  },
  {
   "cell_type": "markdown",
   "metadata": {},
   "source": [
    "# Data Analysis"
   ]
  },
  {
   "cell_type": "markdown",
   "metadata": {},
   "source": [
    "Our dataset comes from Kaggle and includes the following features:\n",
    "1.Numerical feature that is likely an identifier.\n",
    "2.label: categorical feature that classifies entry as spam or ham\n",
    "3.text: Text feature that includes the body text of an email\n",
    "4.label_num: numerical feature that classifies entry as spam or ham (not spam)"
   ]
  },
  {
   "cell_type": "code",
   "execution_count": 1,
   "metadata": {},
   "outputs": [
    {
     "data": {
      "text/html": [
       "<div>\n",
       "<style scoped>\n",
       "    .dataframe tbody tr th:only-of-type {\n",
       "        vertical-align: middle;\n",
       "    }\n",
       "\n",
       "    .dataframe tbody tr th {\n",
       "        vertical-align: top;\n",
       "    }\n",
       "\n",
       "    .dataframe thead th {\n",
       "        text-align: right;\n",
       "    }\n",
       "</style>\n",
       "<table border=\"1\" class=\"dataframe\">\n",
       "  <thead>\n",
       "    <tr style=\"text-align: right;\">\n",
       "      <th></th>\n",
       "      <th>Unnamed: 0</th>\n",
       "      <th>label</th>\n",
       "      <th>text</th>\n",
       "      <th>label_num</th>\n",
       "    </tr>\n",
       "  </thead>\n",
       "  <tbody>\n",
       "    <tr>\n",
       "      <th>0</th>\n",
       "      <td>605</td>\n",
       "      <td>ham</td>\n",
       "      <td>Subject: enron methanol ; meter # : 988291\\r\\n...</td>\n",
       "      <td>0</td>\n",
       "    </tr>\n",
       "    <tr>\n",
       "      <th>1</th>\n",
       "      <td>2349</td>\n",
       "      <td>ham</td>\n",
       "      <td>Subject: hpl nom for january 9 , 2001\\r\\n( see...</td>\n",
       "      <td>0</td>\n",
       "    </tr>\n",
       "    <tr>\n",
       "      <th>2</th>\n",
       "      <td>3624</td>\n",
       "      <td>ham</td>\n",
       "      <td>Subject: neon retreat\\r\\nho ho ho , we ' re ar...</td>\n",
       "      <td>0</td>\n",
       "    </tr>\n",
       "    <tr>\n",
       "      <th>3</th>\n",
       "      <td>4685</td>\n",
       "      <td>spam</td>\n",
       "      <td>Subject: photoshop , windows , office . cheap ...</td>\n",
       "      <td>1</td>\n",
       "    </tr>\n",
       "    <tr>\n",
       "      <th>4</th>\n",
       "      <td>2030</td>\n",
       "      <td>ham</td>\n",
       "      <td>Subject: re : indian springs\\r\\nthis deal is t...</td>\n",
       "      <td>0</td>\n",
       "    </tr>\n",
       "  </tbody>\n",
       "</table>\n",
       "</div>"
      ],
      "text/plain": [
       "   Unnamed: 0 label                                               text  \\\n",
       "0         605   ham  Subject: enron methanol ; meter # : 988291\\r\\n...   \n",
       "1        2349   ham  Subject: hpl nom for january 9 , 2001\\r\\n( see...   \n",
       "2        3624   ham  Subject: neon retreat\\r\\nho ho ho , we ' re ar...   \n",
       "3        4685  spam  Subject: photoshop , windows , office . cheap ...   \n",
       "4        2030   ham  Subject: re : indian springs\\r\\nthis deal is t...   \n",
       "\n",
       "   label_num  \n",
       "0          0  \n",
       "1          0  \n",
       "2          0  \n",
       "3          1  \n",
       "4          0  "
      ]
     },
     "execution_count": 1,
     "metadata": {},
     "output_type": "execute_result"
    }
   ],
   "source": [
    "import pandas as pd\n",
    "import matplotlib.pyplot as plt\n",
    "import seaborn as sns\n",
    "import numpy as np\n",
    "\n",
    "# Assuming the dataset is a CSV file\n",
    "# Replace 'your_dataset.csv' with the actual file name or path\n",
    "df = pd.read_csv('DATA\\spam_ham_dataset.csv')\n",
    "\n",
    "# Displaying the first few rows of the dataset\n",
    "df.head()\n"
   ]
  },
  {
   "cell_type": "markdown",
   "metadata": {},
   "source": [
    "## Basic Description"
   ]
  },
  {
   "cell_type": "markdown",
   "metadata": {},
   "source": [
    "Data has 5210 entries and has no holes."
   ]
  },
  {
   "cell_type": "code",
   "execution_count": 2,
   "metadata": {},
   "outputs": [
    {
     "name": "stdout",
     "output_type": "stream",
     "text": [
      "Dataset Shape: (5171, 4)\n",
      "\n",
      "Data Types:\n",
      " Unnamed: 0     int64\n",
      "label         object\n",
      "text          object\n",
      "label_num      int64\n",
      "dtype: object\n",
      "\n",
      "Missing Values:\n",
      " Unnamed: 0    0\n",
      "label         0\n",
      "text          0\n",
      "label_num     0\n",
      "dtype: int64\n"
     ]
    }
   ],
   "source": [
    "# Shape of the dataset\n",
    "print(\"Dataset Shape:\", df.shape)\n",
    "\n",
    "# Data types of the columns\n",
    "print(\"\\nData Types:\\n\", df.dtypes)\n",
    "\n",
    "# Checking for missing values\n",
    "print(\"\\nMissing Values:\\n\", df.isnull().sum())"
   ]
  },
  {
   "cell_type": "markdown",
   "metadata": {},
   "source": [
    "## Data Distribution"
   ]
  },
  {
   "cell_type": "markdown",
   "metadata": {},
   "source": [
    "Distribution shows significantly more 0 labels (not spam) than 1 labels (spam)"
   ]
  },
  {
   "cell_type": "code",
   "execution_count": 3,
   "metadata": {},
   "outputs": [
    {
     "data": {
      "image/png": "[encoded data removed]",
      "text/plain": [
       "<Figure size 640x480 with 1 Axes>"
      ]
     },
     "metadata": {},
     "output_type": "display_data"
    }
   ],
   "source": [
    "# Plot a histogram\n",
    "plt.hist(df['label_num'], bins=[-0.5, 0.5, 1.5], edgecolor='black', align='mid')\n",
    "\n",
    "# Customize the plot\n",
    "plt.xlabel('Label')\n",
    "plt.ylabel('Count')\n",
    "plt.title('Distribution of Classifier Values')\n",
    "plt.xticks([0, 1])\n",
    "\n",
    "# Show the plot\n",
    "plt.show()"
   ]
  },
  {
   "cell_type": "markdown",
   "metadata": {},
   "source": [
    "# Data Preprocessing"
   ]
  },
  {
   "cell_type": "markdown",
   "metadata": {},
   "source": [
    "Drop unnecessary columns"
   ]
  },
  {
   "cell_type": "code",
   "execution_count": 4,
   "metadata": {},
   "outputs": [
    {
     "data": {
      "text/html": [
       "<div>\n",
       "<style scoped>\n",
       "    .dataframe tbody tr th:only-of-type {\n",
       "        vertical-align: middle;\n",
       "    }\n",
       "\n",
       "    .dataframe tbody tr th {\n",
       "        vertical-align: top;\n",
       "    }\n",
       "\n",
       "    .dataframe thead th {\n",
       "        text-align: right;\n",
       "    }\n",
       "</style>\n",
       "<table border=\"1\" class=\"dataframe\">\n",
       "  <thead>\n",
       "    <tr style=\"text-align: right;\">\n",
       "      <th></th>\n",
       "      <th>text</th>\n",
       "      <th>label_num</th>\n",
       "    </tr>\n",
       "  </thead>\n",
       "  <tbody>\n",
       "    <tr>\n",
       "      <th>0</th>\n",
       "      <td>Subject: enron methanol ; meter # : 988291\\r\\n...</td>\n",
       "      <td>0</td>\n",
       "    </tr>\n",
       "    <tr>\n",
       "      <th>1</th>\n",
       "      <td>Subject: hpl nom for january 9 , 2001\\r\\n( see...</td>\n",
       "      <td>0</td>\n",
       "    </tr>\n",
       "    <tr>\n",
       "      <th>2</th>\n",
       "      <td>Subject: neon retreat\\r\\nho ho ho , we ' re ar...</td>\n",
       "      <td>0</td>\n",
       "    </tr>\n",
       "    <tr>\n",
       "      <th>3</th>\n",
       "      <td>Subject: photoshop , windows , office . cheap ...</td>\n",
       "      <td>1</td>\n",
       "    </tr>\n",
       "    <tr>\n",
       "      <th>4</th>\n",
       "      <td>Subject: re : indian springs\\r\\nthis deal is t...</td>\n",
       "      <td>0</td>\n",
       "    </tr>\n",
       "  </tbody>\n",
       "</table>\n",
       "</div>"
      ],
      "text/plain": [
       "                                                text  label_num\n",
       "0  Subject: enron methanol ; meter # : 988291\\r\\n...          0\n",
       "1  Subject: hpl nom for january 9 , 2001\\r\\n( see...          0\n",
       "2  Subject: neon retreat\\r\\nho ho ho , we ' re ar...          0\n",
       "3  Subject: photoshop , windows , office . cheap ...          1\n",
       "4  Subject: re : indian springs\\r\\nthis deal is t...          0"
      ]
     },
     "execution_count": 4,
     "metadata": {},
     "output_type": "execute_result"
    }
   ],
   "source": [
    "#drop irrelevant columns\n",
    "df.drop(df.columns[[0, 1]], axis=1, inplace=True)\n",
    "df.head()"
   ]
  },
  {
   "cell_type": "markdown",
   "metadata": {},
   "source": [
    "Clean text by removing emails, new lines, and links"
   ]
  },
  {
   "cell_type": "code",
   "execution_count": 5,
   "metadata": {},
   "outputs": [
    {
     "data": {
      "text/html": [
       "<div>\n",
       "<style scoped>\n",
       "    .dataframe tbody tr th:only-of-type {\n",
       "        vertical-align: middle;\n",
       "    }\n",
       "\n",
       "    .dataframe tbody tr th {\n",
       "        vertical-align: top;\n",
       "    }\n",
       "\n",
       "    .dataframe thead th {\n",
       "        text-align: right;\n",
       "    }\n",
       "</style>\n",
       "<table border=\"1\" class=\"dataframe\">\n",
       "  <thead>\n",
       "    <tr style=\"text-align: right;\">\n",
       "      <th></th>\n",
       "      <th>text</th>\n",
       "      <th>label_num</th>\n",
       "      <th>Cleaned_Body</th>\n",
       "    </tr>\n",
       "  </thead>\n",
       "  <tbody>\n",
       "    <tr>\n",
       "      <th>0</th>\n",
       "      <td>Subject: enron methanol ; meter # : 988291\\r\\n...</td>\n",
       "      <td>0</td>\n",
       "      <td>Subject: enron methanol ; meter # : 988291\\r t...</td>\n",
       "    </tr>\n",
       "    <tr>\n",
       "      <th>1</th>\n",
       "      <td>Subject: hpl nom for january 9 , 2001\\r\\n( see...</td>\n",
       "      <td>0</td>\n",
       "      <td>Subject: hpl nom for january 9 , 2001\\r ( see ...</td>\n",
       "    </tr>\n",
       "    <tr>\n",
       "      <th>2</th>\n",
       "      <td>Subject: neon retreat\\r\\nho ho ho , we ' re ar...</td>\n",
       "      <td>0</td>\n",
       "      <td>Subject: neon retreat\\r ho ho ho , we ' re aro...</td>\n",
       "    </tr>\n",
       "    <tr>\n",
       "      <th>3</th>\n",
       "      <td>Subject: photoshop , windows , office . cheap ...</td>\n",
       "      <td>1</td>\n",
       "      <td>Subject: photoshop , windows , office . cheap ...</td>\n",
       "    </tr>\n",
       "    <tr>\n",
       "      <th>4</th>\n",
       "      <td>Subject: re : indian springs\\r\\nthis deal is t...</td>\n",
       "      <td>0</td>\n",
       "      <td>Subject: re : indian springs\\r this deal is to...</td>\n",
       "    </tr>\n",
       "  </tbody>\n",
       "</table>\n",
       "</div>"
      ],
      "text/plain": [
       "                                                text  label_num  \\\n",
       "0  Subject: enron methanol ; meter # : 988291\\r\\n...          0   \n",
       "1  Subject: hpl nom for january 9 , 2001\\r\\n( see...          0   \n",
       "2  Subject: neon retreat\\r\\nho ho ho , we ' re ar...          0   \n",
       "3  Subject: photoshop , windows , office . cheap ...          1   \n",
       "4  Subject: re : indian springs\\r\\nthis deal is t...          0   \n",
       "\n",
       "                                        Cleaned_Body  \n",
       "0  Subject: enron methanol ; meter # : 988291\\r t...  \n",
       "1  Subject: hpl nom for january 9 , 2001\\r ( see ...  \n",
       "2  Subject: neon retreat\\r ho ho ho , we ' re aro...  \n",
       "3  Subject: photoshop , windows , office . cheap ...  \n",
       "4  Subject: re : indian springs\\r this deal is to...  "
      ]
     },
     "execution_count": 5,
     "metadata": {},
     "output_type": "execute_result"
    }
   ],
   "source": [
    "import re\n",
    "# Define a function to clean the emails\n",
    "def clean_email(email):\n",
    "    cleaned_email = re.sub(r'\\S*@\\S*\\s?', '', email)  # Remove email addresses\n",
    "    cleaned_email = re.sub(r'http\\S+', '', cleaned_email)  # Remove URLs\n",
    "    cleaned_email = re.sub(r'\\n', ' ', cleaned_email)  # Remove newlines\n",
    "    return cleaned_email\n",
    "\n",
    "# Apply the cleaning function to each email\n",
    "df['Cleaned_Body'] = df['text'].apply(clean_email)\n",
    "\n",
    "# Display the first few rows of the DataFrame\n",
    "df.head()\n"
   ]
  },
  {
   "cell_type": "markdown",
   "metadata": {},
   "source": [
    "tokenize cleaned body by word"
   ]
  },
  {
   "cell_type": "code",
   "execution_count": 6,
   "metadata": {},
   "outputs": [
    {
     "data": {
      "text/html": [
       "<div>\n",
       "<style scoped>\n",
       "    .dataframe tbody tr th:only-of-type {\n",
       "        vertical-align: middle;\n",
       "    }\n",
       "\n",
       "    .dataframe tbody tr th {\n",
       "        vertical-align: top;\n",
       "    }\n",
       "\n",
       "    .dataframe thead th {\n",
       "        text-align: right;\n",
       "    }\n",
       "</style>\n",
       "<table border=\"1\" class=\"dataframe\">\n",
       "  <thead>\n",
       "    <tr style=\"text-align: right;\">\n",
       "      <th></th>\n",
       "      <th>text</th>\n",
       "      <th>label_num</th>\n",
       "      <th>Cleaned_Body</th>\n",
       "      <th>Tokens</th>\n",
       "    </tr>\n",
       "  </thead>\n",
       "  <tbody>\n",
       "    <tr>\n",
       "      <th>0</th>\n",
       "      <td>Subject: enron methanol ; meter # : 988291\\r\\n...</td>\n",
       "      <td>0</td>\n",
       "      <td>Subject: enron methanol ; meter # : 988291\\r t...</td>\n",
       "      <td>[Subject, :, enron, methanol, ;, meter, #, :, ...</td>\n",
       "    </tr>\n",
       "    <tr>\n",
       "      <th>1</th>\n",
       "      <td>Subject: hpl nom for january 9 , 2001\\r\\n( see...</td>\n",
       "      <td>0</td>\n",
       "      <td>Subject: hpl nom for january 9 , 2001\\r ( see ...</td>\n",
       "      <td>[Subject, :, hpl, nom, for, january, 9, ,, 200...</td>\n",
       "    </tr>\n",
       "    <tr>\n",
       "      <th>2</th>\n",
       "      <td>Subject: neon retreat\\r\\nho ho ho , we ' re ar...</td>\n",
       "      <td>0</td>\n",
       "      <td>Subject: neon retreat\\r ho ho ho , we ' re aro...</td>\n",
       "      <td>[Subject, :, neon, retreat, ho, ho, ho, ,, we,...</td>\n",
       "    </tr>\n",
       "    <tr>\n",
       "      <th>3</th>\n",
       "      <td>Subject: photoshop , windows , office . cheap ...</td>\n",
       "      <td>1</td>\n",
       "      <td>Subject: photoshop , windows , office . cheap ...</td>\n",
       "      <td>[Subject, :, photoshop, ,, windows, ,, office,...</td>\n",
       "    </tr>\n",
       "    <tr>\n",
       "      <th>4</th>\n",
       "      <td>Subject: re : indian springs\\r\\nthis deal is t...</td>\n",
       "      <td>0</td>\n",
       "      <td>Subject: re : indian springs\\r this deal is to...</td>\n",
       "      <td>[Subject, :, re, :, indian, springs, this, dea...</td>\n",
       "    </tr>\n",
       "  </tbody>\n",
       "</table>\n",
       "</div>"
      ],
      "text/plain": [
       "                                                text  label_num  \\\n",
       "0  Subject: enron methanol ; meter # : 988291\\r\\n...          0   \n",
       "1  Subject: hpl nom for january 9 , 2001\\r\\n( see...          0   \n",
       "2  Subject: neon retreat\\r\\nho ho ho , we ' re ar...          0   \n",
       "3  Subject: photoshop , windows , office . cheap ...          1   \n",
       "4  Subject: re : indian springs\\r\\nthis deal is t...          0   \n",
       "\n",
       "                                        Cleaned_Body  \\\n",
       "0  Subject: enron methanol ; meter # : 988291\\r t...   \n",
       "1  Subject: hpl nom for january 9 , 2001\\r ( see ...   \n",
       "2  Subject: neon retreat\\r ho ho ho , we ' re aro...   \n",
       "3  Subject: photoshop , windows , office . cheap ...   \n",
       "4  Subject: re : indian springs\\r this deal is to...   \n",
       "\n",
       "                                              Tokens  \n",
       "0  [Subject, :, enron, methanol, ;, meter, #, :, ...  \n",
       "1  [Subject, :, hpl, nom, for, january, 9, ,, 200...  \n",
       "2  [Subject, :, neon, retreat, ho, ho, ho, ,, we,...  \n",
       "3  [Subject, :, photoshop, ,, windows, ,, office,...  \n",
       "4  [Subject, :, re, :, indian, springs, this, dea...  "
      ]
     },
     "execution_count": 6,
     "metadata": {},
     "output_type": "execute_result"
    }
   ],
   "source": [
    "import nltk\n",
    "\n",
    "def tokenize_email(cleaned_email):\n",
    "    tokens = nltk.word_tokenize(cleaned_email)\n",
    "    return tokens\n",
    "\n",
    "# Apply the tokenization function to each cleaned email\n",
    "df['Tokens'] = df['Cleaned_Body'].apply(tokenize_email)\n",
    "\n",
    "# Display the first few rows of the DataFrame\n",
    "df.head()\n"
   ]
  },
  {
   "cell_type": "markdown",
   "metadata": {},
   "source": [
    "Filter token column by removing stop words"
   ]
  },
  {
   "cell_type": "code",
   "execution_count": 7,
   "metadata": {},
   "outputs": [
    {
     "data": {
      "text/html": [
       "<div>\n",
       "<style scoped>\n",
       "    .dataframe tbody tr th:only-of-type {\n",
       "        vertical-align: middle;\n",
       "    }\n",
       "\n",
       "    .dataframe tbody tr th {\n",
       "        vertical-align: top;\n",
       "    }\n",
       "\n",
       "    .dataframe thead th {\n",
       "        text-align: right;\n",
       "    }\n",
       "</style>\n",
       "<table border=\"1\" class=\"dataframe\">\n",
       "  <thead>\n",
       "    <tr style=\"text-align: right;\">\n",
       "      <th></th>\n",
       "      <th>text</th>\n",
       "      <th>label_num</th>\n",
       "      <th>Cleaned_Body</th>\n",
       "      <th>Tokens</th>\n",
       "      <th>Filtered_Tokens</th>\n",
       "    </tr>\n",
       "  </thead>\n",
       "  <tbody>\n",
       "    <tr>\n",
       "      <th>0</th>\n",
       "      <td>Subject: enron methanol ; meter # : 988291\\r\\n...</td>\n",
       "      <td>0</td>\n",
       "      <td>Subject: enron methanol ; meter # : 988291\\r t...</td>\n",
       "      <td>[Subject, :, enron, methanol, ;, meter, #, :, ...</td>\n",
       "      <td>[Subject, :, enron, methanol, ;, meter, #, :, ...</td>\n",
       "    </tr>\n",
       "    <tr>\n",
       "      <th>1</th>\n",
       "      <td>Subject: hpl nom for january 9 , 2001\\r\\n( see...</td>\n",
       "      <td>0</td>\n",
       "      <td>Subject: hpl nom for january 9 , 2001\\r ( see ...</td>\n",
       "      <td>[Subject, :, hpl, nom, for, january, 9, ,, 200...</td>\n",
       "      <td>[Subject, :, hpl, nom, january, 9, ,, 2001, (,...</td>\n",
       "    </tr>\n",
       "    <tr>\n",
       "      <th>2</th>\n",
       "      <td>Subject: neon retreat\\r\\nho ho ho , we ' re ar...</td>\n",
       "      <td>0</td>\n",
       "      <td>Subject: neon retreat\\r ho ho ho , we ' re aro...</td>\n",
       "      <td>[Subject, :, neon, retreat, ho, ho, ho, ,, we,...</td>\n",
       "      <td>[Subject, :, neon, retreat, ho, ho, ho, ,, ', ...</td>\n",
       "    </tr>\n",
       "    <tr>\n",
       "      <th>3</th>\n",
       "      <td>Subject: photoshop , windows , office . cheap ...</td>\n",
       "      <td>1</td>\n",
       "      <td>Subject: photoshop , windows , office . cheap ...</td>\n",
       "      <td>[Subject, :, photoshop, ,, windows, ,, office,...</td>\n",
       "      <td>[Subject, :, photoshop, ,, windows, ,, office,...</td>\n",
       "    </tr>\n",
       "    <tr>\n",
       "      <th>4</th>\n",
       "      <td>Subject: re : indian springs\\r\\nthis deal is t...</td>\n",
       "      <td>0</td>\n",
       "      <td>Subject: re : indian springs\\r this deal is to...</td>\n",
       "      <td>[Subject, :, re, :, indian, springs, this, dea...</td>\n",
       "      <td>[Subject, :, :, indian, springs, deal, book, t...</td>\n",
       "    </tr>\n",
       "  </tbody>\n",
       "</table>\n",
       "</div>"
      ],
      "text/plain": [
       "                                                text  label_num  \\\n",
       "0  Subject: enron methanol ; meter # : 988291\\r\\n...          0   \n",
       "1  Subject: hpl nom for january 9 , 2001\\r\\n( see...          0   \n",
       "2  Subject: neon retreat\\r\\nho ho ho , we ' re ar...          0   \n",
       "3  Subject: photoshop , windows , office . cheap ...          1   \n",
       "4  Subject: re : indian springs\\r\\nthis deal is t...          0   \n",
       "\n",
       "                                        Cleaned_Body  \\\n",
       "0  Subject: enron methanol ; meter # : 988291\\r t...   \n",
       "1  Subject: hpl nom for january 9 , 2001\\r ( see ...   \n",
       "2  Subject: neon retreat\\r ho ho ho , we ' re aro...   \n",
       "3  Subject: photoshop , windows , office . cheap ...   \n",
       "4  Subject: re : indian springs\\r this deal is to...   \n",
       "\n",
       "                                              Tokens  \\\n",
       "0  [Subject, :, enron, methanol, ;, meter, #, :, ...   \n",
       "1  [Subject, :, hpl, nom, for, january, 9, ,, 200...   \n",
       "2  [Subject, :, neon, retreat, ho, ho, ho, ,, we,...   \n",
       "3  [Subject, :, photoshop, ,, windows, ,, office,...   \n",
       "4  [Subject, :, re, :, indian, springs, this, dea...   \n",
       "\n",
       "                                     Filtered_Tokens  \n",
       "0  [Subject, :, enron, methanol, ;, meter, #, :, ...  \n",
       "1  [Subject, :, hpl, nom, january, 9, ,, 2001, (,...  \n",
       "2  [Subject, :, neon, retreat, ho, ho, ho, ,, ', ...  \n",
       "3  [Subject, :, photoshop, ,, windows, ,, office,...  \n",
       "4  [Subject, :, :, indian, springs, deal, book, t...  "
      ]
     },
     "execution_count": 7,
     "metadata": {},
     "output_type": "execute_result"
    }
   ],
   "source": [
    "from nltk.corpus import stopwords\n",
    "\n",
    "# Create a set of English stopwords\n",
    "stop_words = set(stopwords.words('english'))\n",
    "\n",
    "# Define a function to remove stopwords from the tokens\n",
    "def remove_stopwords(token_list):\n",
    "    filtered_tokens = [word for word in token_list if word not in stop_words]\n",
    "    return filtered_tokens\n",
    "\n",
    "# Apply the stopword removal function to each list of tokens\n",
    "df['Filtered_Tokens'] = df['Tokens'].apply(remove_stopwords)\n",
    "\n",
    "# Display the first few rows of the DataFrame\n",
    "df.head()\n"
   ]
  },
  {
   "cell_type": "code",
   "execution_count": 8,
   "metadata": {},
   "outputs": [
    {
     "data": {
      "text/html": [
       "<div>\n",
       "<style scoped>\n",
       "    .dataframe tbody tr th:only-of-type {\n",
       "        vertical-align: middle;\n",
       "    }\n",
       "\n",
       "    .dataframe tbody tr th {\n",
       "        vertical-align: top;\n",
       "    }\n",
       "\n",
       "    .dataframe thead th {\n",
       "        text-align: right;\n",
       "    }\n",
       "</style>\n",
       "<table border=\"1\" class=\"dataframe\">\n",
       "  <thead>\n",
       "    <tr style=\"text-align: right;\">\n",
       "      <th></th>\n",
       "      <th>text</th>\n",
       "      <th>label_num</th>\n",
       "      <th>Cleaned_Body</th>\n",
       "      <th>Tokens</th>\n",
       "      <th>Filtered_Tokens</th>\n",
       "      <th>Stemmed_Tokens</th>\n",
       "      <th>Lemmatized_Tokens</th>\n",
       "    </tr>\n",
       "  </thead>\n",
       "  <tbody>\n",
       "    <tr>\n",
       "      <th>0</th>\n",
       "      <td>Subject: enron methanol ; meter # : 988291\\r\\n...</td>\n",
       "      <td>0</td>\n",
       "      <td>Subject: enron methanol ; meter # : 988291\\r t...</td>\n",
       "      <td>[Subject, :, enron, methanol, ;, meter, #, :, ...</td>\n",
       "      <td>[Subject, :, enron, methanol, ;, meter, #, :, ...</td>\n",
       "      <td>[subject, :, enron, methanol, ;, meter, #, :, ...</td>\n",
       "      <td>[Subject, :, enron, methanol, ;, meter, #, :, ...</td>\n",
       "    </tr>\n",
       "    <tr>\n",
       "      <th>1</th>\n",
       "      <td>Subject: hpl nom for january 9 , 2001\\r\\n( see...</td>\n",
       "      <td>0</td>\n",
       "      <td>Subject: hpl nom for january 9 , 2001\\r ( see ...</td>\n",
       "      <td>[Subject, :, hpl, nom, for, january, 9, ,, 200...</td>\n",
       "      <td>[Subject, :, hpl, nom, january, 9, ,, 2001, (,...</td>\n",
       "      <td>[subject, :, hpl, nom, januari, 9, ,, 2001, (,...</td>\n",
       "      <td>[Subject, :, hpl, nom, january, 9, ,, 2001, (,...</td>\n",
       "    </tr>\n",
       "    <tr>\n",
       "      <th>2</th>\n",
       "      <td>Subject: neon retreat\\r\\nho ho ho , we ' re ar...</td>\n",
       "      <td>0</td>\n",
       "      <td>Subject: neon retreat\\r ho ho ho , we ' re aro...</td>\n",
       "      <td>[Subject, :, neon, retreat, ho, ho, ho, ,, we,...</td>\n",
       "      <td>[Subject, :, neon, retreat, ho, ho, ho, ,, ', ...</td>\n",
       "      <td>[subject, :, neon, retreat, ho, ho, ho, ,, ', ...</td>\n",
       "      <td>[Subject, :, neon, retreat, ho, ho, ho, ,, ', ...</td>\n",
       "    </tr>\n",
       "    <tr>\n",
       "      <th>3</th>\n",
       "      <td>Subject: photoshop , windows , office . cheap ...</td>\n",
       "      <td>1</td>\n",
       "      <td>Subject: photoshop , windows , office . cheap ...</td>\n",
       "      <td>[Subject, :, photoshop, ,, windows, ,, office,...</td>\n",
       "      <td>[Subject, :, photoshop, ,, windows, ,, office,...</td>\n",
       "      <td>[subject, :, photoshop, ,, window, ,, offic, ....</td>\n",
       "      <td>[Subject, :, photoshop, ,, window, ,, office, ...</td>\n",
       "    </tr>\n",
       "    <tr>\n",
       "      <th>4</th>\n",
       "      <td>Subject: re : indian springs\\r\\nthis deal is t...</td>\n",
       "      <td>0</td>\n",
       "      <td>Subject: re : indian springs\\r this deal is to...</td>\n",
       "      <td>[Subject, :, re, :, indian, springs, this, dea...</td>\n",
       "      <td>[Subject, :, :, indian, springs, deal, book, t...</td>\n",
       "      <td>[subject, :, :, indian, spring, deal, book, te...</td>\n",
       "      <td>[Subject, :, :, indian, spring, deal, book, te...</td>\n",
       "    </tr>\n",
       "  </tbody>\n",
       "</table>\n",
       "</div>"
      ],
      "text/plain": [
       "                                                text  label_num  \\\n",
       "0  Subject: enron methanol ; meter # : 988291\\r\\n...          0   \n",
       "1  Subject: hpl nom for january 9 , 2001\\r\\n( see...          0   \n",
       "2  Subject: neon retreat\\r\\nho ho ho , we ' re ar...          0   \n",
       "3  Subject: photoshop , windows , office . cheap ...          1   \n",
       "4  Subject: re : indian springs\\r\\nthis deal is t...          0   \n",
       "\n",
       "                                        Cleaned_Body  \\\n",
       "0  Subject: enron methanol ; meter # : 988291\\r t...   \n",
       "1  Subject: hpl nom for january 9 , 2001\\r ( see ...   \n",
       "2  Subject: neon retreat\\r ho ho ho , we ' re aro...   \n",
       "3  Subject: photoshop , windows , office . cheap ...   \n",
       "4  Subject: re : indian springs\\r this deal is to...   \n",
       "\n",
       "                                              Tokens  \\\n",
       "0  [Subject, :, enron, methanol, ;, meter, #, :, ...   \n",
       "1  [Subject, :, hpl, nom, for, january, 9, ,, 200...   \n",
       "2  [Subject, :, neon, retreat, ho, ho, ho, ,, we,...   \n",
       "3  [Subject, :, photoshop, ,, windows, ,, office,...   \n",
       "4  [Subject, :, re, :, indian, springs, this, dea...   \n",
       "\n",
       "                                     Filtered_Tokens  \\\n",
       "0  [Subject, :, enron, methanol, ;, meter, #, :, ...   \n",
       "1  [Subject, :, hpl, nom, january, 9, ,, 2001, (,...   \n",
       "2  [Subject, :, neon, retreat, ho, ho, ho, ,, ', ...   \n",
       "3  [Subject, :, photoshop, ,, windows, ,, office,...   \n",
       "4  [Subject, :, :, indian, springs, deal, book, t...   \n",
       "\n",
       "                                      Stemmed_Tokens  \\\n",
       "0  [subject, :, enron, methanol, ;, meter, #, :, ...   \n",
       "1  [subject, :, hpl, nom, januari, 9, ,, 2001, (,...   \n",
       "2  [subject, :, neon, retreat, ho, ho, ho, ,, ', ...   \n",
       "3  [subject, :, photoshop, ,, window, ,, offic, ....   \n",
       "4  [subject, :, :, indian, spring, deal, book, te...   \n",
       "\n",
       "                                   Lemmatized_Tokens  \n",
       "0  [Subject, :, enron, methanol, ;, meter, #, :, ...  \n",
       "1  [Subject, :, hpl, nom, january, 9, ,, 2001, (,...  \n",
       "2  [Subject, :, neon, retreat, ho, ho, ho, ,, ', ...  \n",
       "3  [Subject, :, photoshop, ,, window, ,, office, ...  \n",
       "4  [Subject, :, :, indian, spring, deal, book, te...  "
      ]
     },
     "execution_count": 8,
     "metadata": {},
     "output_type": "execute_result"
    }
   ],
   "source": [
    "from nltk.stem import PorterStemmer, WordNetLemmatizer\n",
    "\n",
    "# Initialize stemmer and lemmatizer\n",
    "stemmer = PorterStemmer()\n",
    "lemmatizer = WordNetLemmatizer()\n",
    "\n",
    "# Define functions for stemming and lemmatizing\n",
    "def stem_tokens(token_list):\n",
    "    return [stemmer.stem(word) for word in token_list]\n",
    "\n",
    "def lemmatize_tokens(token_list):\n",
    "    return [lemmatizer.lemmatize(word) for word in token_list]\n",
    "\n",
    "# Apply stemming and lemmatization to the filtered tokens\n",
    "df['Stemmed_Tokens'] = df['Filtered_Tokens'].apply(stem_tokens)\n",
    "df['Lemmatized_Tokens'] = df['Filtered_Tokens'].apply(lemmatize_tokens)\n",
    "\n",
    "# Display the first few rows of the DataFrame\n",
    "df.head()\n"
   ]
  },
  {
   "cell_type": "code",
   "execution_count": 9,
   "metadata": {},
   "outputs": [
    {
     "name": "stdout",
     "output_type": "stream",
     "text": [
      "\n",
      "Bag of Words Representation (Example):\n",
      " [1 0 0 ... 0 0 0]\n"
     ]
    },
    {
     "data": {
      "text/html": [
       "<div>\n",
       "<style scoped>\n",
       "    .dataframe tbody tr th:only-of-type {\n",
       "        vertical-align: middle;\n",
       "    }\n",
       "\n",
       "    .dataframe tbody tr th {\n",
       "        vertical-align: top;\n",
       "    }\n",
       "\n",
       "    .dataframe thead th {\n",
       "        text-align: right;\n",
       "    }\n",
       "</style>\n",
       "<table border=\"1\" class=\"dataframe\">\n",
       "  <thead>\n",
       "    <tr style=\"text-align: right;\">\n",
       "      <th></th>\n",
       "      <th>00</th>\n",
       "      <th>000</th>\n",
       "      <th>0000</th>\n",
       "      <th>000000</th>\n",
       "      <th>000000000002858</th>\n",
       "      <th>000000000049773</th>\n",
       "      <th>000080</th>\n",
       "      <th>000099</th>\n",
       "      <th>0001</th>\n",
       "      <th>00018</th>\n",
       "      <th>...</th>\n",
       "      <th>zynve</th>\n",
       "      <th>zyqtaqlt</th>\n",
       "      <th>zyrtec</th>\n",
       "      <th>zyyqywp</th>\n",
       "      <th>zzezrjok</th>\n",
       "      <th>zzn</th>\n",
       "      <th>zzo</th>\n",
       "      <th>zzocb</th>\n",
       "      <th>zzso</th>\n",
       "      <th>zzsyt</th>\n",
       "    </tr>\n",
       "  </thead>\n",
       "  <tbody>\n",
       "    <tr>\n",
       "      <th>0</th>\n",
       "      <td>0.106357</td>\n",
       "      <td>0.0</td>\n",
       "      <td>0.0</td>\n",
       "      <td>0.0</td>\n",
       "      <td>0.0</td>\n",
       "      <td>0.0</td>\n",
       "      <td>0.0</td>\n",
       "      <td>0.0</td>\n",
       "      <td>0.0</td>\n",
       "      <td>0.0</td>\n",
       "      <td>...</td>\n",
       "      <td>0.0</td>\n",
       "      <td>0.0</td>\n",
       "      <td>0.0</td>\n",
       "      <td>0.0</td>\n",
       "      <td>0.0</td>\n",
       "      <td>0.0</td>\n",
       "      <td>0.0</td>\n",
       "      <td>0.0</td>\n",
       "      <td>0.0</td>\n",
       "      <td>0.0</td>\n",
       "    </tr>\n",
       "    <tr>\n",
       "      <th>1</th>\n",
       "      <td>0.000000</td>\n",
       "      <td>0.0</td>\n",
       "      <td>0.0</td>\n",
       "      <td>0.0</td>\n",
       "      <td>0.0</td>\n",
       "      <td>0.0</td>\n",
       "      <td>0.0</td>\n",
       "      <td>0.0</td>\n",
       "      <td>0.0</td>\n",
       "      <td>0.0</td>\n",
       "      <td>...</td>\n",
       "      <td>0.0</td>\n",
       "      <td>0.0</td>\n",
       "      <td>0.0</td>\n",
       "      <td>0.0</td>\n",
       "      <td>0.0</td>\n",
       "      <td>0.0</td>\n",
       "      <td>0.0</td>\n",
       "      <td>0.0</td>\n",
       "      <td>0.0</td>\n",
       "      <td>0.0</td>\n",
       "    </tr>\n",
       "    <tr>\n",
       "      <th>2</th>\n",
       "      <td>0.000000</td>\n",
       "      <td>0.0</td>\n",
       "      <td>0.0</td>\n",
       "      <td>0.0</td>\n",
       "      <td>0.0</td>\n",
       "      <td>0.0</td>\n",
       "      <td>0.0</td>\n",
       "      <td>0.0</td>\n",
       "      <td>0.0</td>\n",
       "      <td>0.0</td>\n",
       "      <td>...</td>\n",
       "      <td>0.0</td>\n",
       "      <td>0.0</td>\n",
       "      <td>0.0</td>\n",
       "      <td>0.0</td>\n",
       "      <td>0.0</td>\n",
       "      <td>0.0</td>\n",
       "      <td>0.0</td>\n",
       "      <td>0.0</td>\n",
       "      <td>0.0</td>\n",
       "      <td>0.0</td>\n",
       "    </tr>\n",
       "    <tr>\n",
       "      <th>3</th>\n",
       "      <td>0.000000</td>\n",
       "      <td>0.0</td>\n",
       "      <td>0.0</td>\n",
       "      <td>0.0</td>\n",
       "      <td>0.0</td>\n",
       "      <td>0.0</td>\n",
       "      <td>0.0</td>\n",
       "      <td>0.0</td>\n",
       "      <td>0.0</td>\n",
       "      <td>0.0</td>\n",
       "      <td>...</td>\n",
       "      <td>0.0</td>\n",
       "      <td>0.0</td>\n",
       "      <td>0.0</td>\n",
       "      <td>0.0</td>\n",
       "      <td>0.0</td>\n",
       "      <td>0.0</td>\n",
       "      <td>0.0</td>\n",
       "      <td>0.0</td>\n",
       "      <td>0.0</td>\n",
       "      <td>0.0</td>\n",
       "    </tr>\n",
       "    <tr>\n",
       "      <th>4</th>\n",
       "      <td>0.000000</td>\n",
       "      <td>0.0</td>\n",
       "      <td>0.0</td>\n",
       "      <td>0.0</td>\n",
       "      <td>0.0</td>\n",
       "      <td>0.0</td>\n",
       "      <td>0.0</td>\n",
       "      <td>0.0</td>\n",
       "      <td>0.0</td>\n",
       "      <td>0.0</td>\n",
       "      <td>...</td>\n",
       "      <td>0.0</td>\n",
       "      <td>0.0</td>\n",
       "      <td>0.0</td>\n",
       "      <td>0.0</td>\n",
       "      <td>0.0</td>\n",
       "      <td>0.0</td>\n",
       "      <td>0.0</td>\n",
       "      <td>0.0</td>\n",
       "      <td>0.0</td>\n",
       "      <td>0.0</td>\n",
       "    </tr>\n",
       "  </tbody>\n",
       "</table>\n",
       "<p>5 rows × 47864 columns</p>\n",
       "</div>"
      ],
      "text/plain": [
       "         00  000  0000  000000  000000000002858  000000000049773  000080  \\\n",
       "0  0.106357  0.0   0.0     0.0              0.0              0.0     0.0   \n",
       "1  0.000000  0.0   0.0     0.0              0.0              0.0     0.0   \n",
       "2  0.000000  0.0   0.0     0.0              0.0              0.0     0.0   \n",
       "3  0.000000  0.0   0.0     0.0              0.0              0.0     0.0   \n",
       "4  0.000000  0.0   0.0     0.0              0.0              0.0     0.0   \n",
       "\n",
       "   000099  0001  00018  ...  zynve  zyqtaqlt  zyrtec  zyyqywp  zzezrjok  zzn  \\\n",
       "0     0.0   0.0    0.0  ...    0.0       0.0     0.0      0.0       0.0  0.0   \n",
       "1     0.0   0.0    0.0  ...    0.0       0.0     0.0      0.0       0.0  0.0   \n",
       "2     0.0   0.0    0.0  ...    0.0       0.0     0.0      0.0       0.0  0.0   \n",
       "3     0.0   0.0    0.0  ...    0.0       0.0     0.0      0.0       0.0  0.0   \n",
       "4     0.0   0.0    0.0  ...    0.0       0.0     0.0      0.0       0.0  0.0   \n",
       "\n",
       "   zzo  zzocb  zzso  zzsyt  \n",
       "0  0.0    0.0   0.0    0.0  \n",
       "1  0.0    0.0   0.0    0.0  \n",
       "2  0.0    0.0   0.0    0.0  \n",
       "3  0.0    0.0   0.0    0.0  \n",
       "4  0.0    0.0   0.0    0.0  \n",
       "\n",
       "[5 rows x 47864 columns]"
      ]
     },
     "execution_count": 9,
     "metadata": {},
     "output_type": "execute_result"
    }
   ],
   "source": [
    "from sklearn.feature_extraction.text import CountVectorizer, TfidfVectorizer\n",
    "\n",
    "# [Previous steps: cleaning, tokenizing, removing stopwords, stemming, lemmatizing]\n",
    "\n",
    "# Aggregate lemmatized tokens back into strings\n",
    "df['Lemmatized_Text'] = df['Lemmatized_Tokens'].apply(lambda x: ' '.join(x))\n",
    "\n",
    "# Initialize CountVectorizer and TfidfVectorizer\n",
    "vectorizer = CountVectorizer()\n",
    "tfidf_vectorizer = TfidfVectorizer()\n",
    "\n",
    "# Apply CountVectorizer to the lemmatized text\n",
    "bow = vectorizer.fit_transform(df['Lemmatized_Text'])\n",
    "\n",
    "# Apply TfidfVectorizer to the lemmatized text\n",
    "tfidf = tfidf_vectorizer.fit_transform(df['Lemmatized_Text'])\n",
    "\n",
    "# The resulting bow and tfidf are the vectorized forms of the processed emails\n",
    "# To display an example of the Bag of Words representation:\n",
    "print(\"\\nBag of Words Representation (Example):\\n\", bow.toarray()[0])  # Display the first row\n",
    "\n",
    "# Optionally, you can create DataFrame representations for easy viewing\n",
    "bow_df = pd.DataFrame(bow.toarray(), columns=vectorizer.get_feature_names_out())\n",
    "tfidf_df = pd.DataFrame(tfidf.toarray(), columns=tfidf_vectorizer.get_feature_names_out())\n",
    "\n",
    "# Display the first few rows of the BoW DataFrame\n",
    "bow_df.head()\n",
    "\n",
    "# Display the first few rows of the TF-IDF DataFrame\n",
    "tfidf_df.head()\n"
   ]
  },
  {
   "cell_type": "code",
   "execution_count": 11,
   "metadata": {},
   "outputs": [
    {
     "data": {
      "image/png": "[encoded data removed]",
      "text/plain": [
       "<Figure size 1000x600 with 1 Axes>"
      ]
     },
     "metadata": {},
     "output_type": "display_data"
    }
   ],
   "source": [
    "from sklearn.feature_extraction.text import CountVectorizer, TfidfVectorizer\n",
    "from collections import Counter\n",
    "\n",
    "# Aggregate all lemmatized words into a single list\n",
    "all_lemmatized_words = []\n",
    "for tokens in df['Lemmatized_Tokens']:\n",
    "    all_lemmatized_words.extend(tokens)\n",
    "\n",
    "# Calculate the frequency of each word\n",
    "word_freq = Counter(all_lemmatized_words)\n",
    "\n",
    "# Get the 10 most common words\n",
    "most_common_words = word_freq.most_common(10)\n",
    "\n",
    "# Unzip words and counts\n",
    "words, counts = zip(*most_common_words)\n",
    "\n",
    "# Plotting\n",
    "plt.figure(figsize=(10, 6))\n",
    "plt.bar(words, counts)\n",
    "plt.xlabel('Words')\n",
    "plt.ylabel('Frequency')\n",
    "plt.title('Top 10 Most Frequent Words after Preprocessing')\n",
    "plt.show()\n"
   ]
  },
  {
   "cell_type": "markdown",
   "metadata": {},
   "source": [
    "# Analytical Model Description"
   ]
  },
  {
   "cell_type": "markdown",
   "metadata": {},
   "source": [
    "Given our problem involves language processing we decided to use a Naive Bayes model for our classification task. This is because Naive Bayes models are both computationally efficient and allow for a high dimensionality of features which is common in language processing where each word is considered a feature. The essence of Naive Bayes models involves calculating the likelyhood of each feature given each class and then using that to classify new features. In more formal terms...."
   ]
  },
  {
   "cell_type": "markdown",
   "metadata": {},
   "source": [
    "We start with intial probability which is calculated with\n"
   ]
  },
  {
   "cell_type": "markdown",
   "metadata": {},
   "source": [
    "<span style=\"white-space: nowrap; font-size: larger;\">\n",
    "    \\( P(\\text{Class}) = \\frac{\\text{Number of Instances in Class}}{\\text{Total Number of Instances}} \\)\n",
    "</span>"
   ]
  },
  {
   "cell_type": "markdown",
   "metadata": {},
   "source": [
    "We then calculate the lileyhood of each feature given each class, this is done with"
   ]
  },
  {
   "cell_type": "markdown",
   "metadata": {},
   "source": [
    "<span style=\"white-space: nowrap; font-size: larger;\">\n",
    "    \\( P(\\text{Feature} | \\text{Class}) = \\frac{\\text{Total number of instances in Class}}{\\text{Number of instances in Class with the Feature}} \\)\n",
    "</span>\n"
   ]
  },
  {
   "cell_type": "markdown",
   "metadata": {},
   "source": [
    "Once we have the likelyhoods of each feature given each class and the initial probability we can classify new entries by calculating the posterior probability of each class given initial probability and the entrie's data. This is done with"
   ]
  },
  {
   "cell_type": "markdown",
   "metadata": {},
   "source": [
    "<span style=\"white-space: nowrap; font-size: larger;\">\n",
    "    \\( P(\\text{Class} | \\text{Features}) \\propto P(\\text{Class}) \\cdot \\prod_{i} P(\\text{Feature}_i | \\text{Class}) \\)\n",
    "</span>\n"
   ]
  },
  {
   "cell_type": "markdown",
   "metadata": {},
   "source": [
    "We then normalize the posterior probability of each class to ensure that the sum is 1, the new entry is classified based on which class yielded the higher posterior probability. Normalization is done with"
   ]
  },
  {
   "cell_type": "markdown",
   "metadata": {},
   "source": [
    "<span style=\"white-space: nowrap; font-size: larger;\">\n",
    "    \\( P(\\text{Class} | \\text{Features}) = \\frac{P(\\text{Class | Features})}{\\sum_{\\text{Classes}} P(\\text{Class | Features})} \\)\n",
    "</span>\n"
   ]
  },
  {
   "cell_type": "markdown",
   "metadata": {},
   "source": [
    "# Pipeline"
   ]
  },
  {
   "cell_type": "markdown",
   "metadata": {},
   "source": [
    "Our pipeline consisted of:\n",
    "1. Data Collection: imported an existing dataset from Kaggle\n",
    "2. Data Exploration: performed initial analysis on data to gain a better understanding\n",
    "3. Data Preprocessing: cleaned up data and made it suitable for training\n",
    "4. Model Selection: chose appropiate model based on nature of problem and data\n",
    "5. Model Training: trained our model with our training data\n",
    "6. Model Testing: tested our model with our testing set\n",
    "7. Model Optimization: ensured model performance is as good as possible\n",
    "8. Performance Analysis: measured our model with various metrics to ensure its performance is optimal"
   ]
  },
  {
   "cell_type": "markdown",
   "metadata": {},
   "source": [
    "# Model Implementation"
   ]
  },
  {
   "cell_type": "markdown",
   "metadata": {},
   "source": [
    "In order to implement the model we used pandas to load in the data, sklearn to build the model, matplotlib to visualize the data, and numpy for mathematical computations"
   ]
  },
  {
   "cell_type": "markdown",
   "metadata": {},
   "source": [
    "# Assumptions"
   ]
  },
  {
   "cell_type": "markdown",
   "metadata": {},
   "source": [
    "In terms of assumptions, the Naive Bayes inherently assumes that each variable is independent of one another given the class. Although features aren't always independent of eachother, this assumption generally works well. It is also important to note that this model is trained with previous characteristics of spam emails and future spam emails may have different characteristics. For this reason it's important to note that the model must be reevaluated periodically to ensure data is relevant."
   ]
  },
  {
   "cell_type": "markdown",
   "metadata": {},
   "source": [
    "# Deployment"
   ]
  },
  {
   "cell_type": "code",
   "execution_count": 13,
   "metadata": {},
   "outputs": [
    {
     "data": {
      "text/plain": [
       "(3619, 227394)"
      ]
     },
     "execution_count": 13,
     "metadata": {},
     "output_type": "execute_result"
    }
   ],
   "source": [
    "from sklearn.model_selection import train_test_split\n",
    "from sklearn.model_selection import cross_val_score, KFold\n",
    "# Assuming 'df' is your DataFrame and it has been loaded correctly with 'text' and 'label_num' columns\n",
    "\n",
    "# Splitting the data into features and target variable\n",
    "X = df['Lemmatized_Text']  # The 'text' column contains the email content\n",
    "y = df['label_num']  # The 'label_num' column contains the label (0 or 1)\n",
    "\n",
    "\n",
    "# Split the data into a 70% training set and a 30% testing set\n",
    "X_train, X_test, y_train, y_test = train_test_split(X, y, test_size=0.3, random_state=42)\n",
    "\n",
    "# Now, X_train and y_train are your training features and labels\n",
    "# X_test and y_test are your testing features and labels\n",
    "\n",
    "# extract features\n",
    "vectorizer = CountVectorizer(ngram_range=(1, 2)).fit(X_train)\n",
    "X_train_vectorized = vectorizer.transform(X_train)\n",
    "X_train_vectorized.toarray().shape"
   ]
  },
  {
   "cell_type": "code",
   "execution_count": 14,
   "metadata": {},
   "outputs": [
    {
     "data": {
      "text/html": [
       "<style>#sk-container-id-1 {color: black;}#sk-container-id-1 pre{padding: 0;}#sk-container-id-1 div.sk-toggleable {background-color: white;}#sk-container-id-1 label.sk-toggleable__label {cursor: pointer;display: block;width: 100%;margin-bottom: 0;padding: 0.3em;box-sizing: border-box;text-align: center;}#sk-container-id-1 label.sk-toggleable__label-arrow:before {content: \"▸\";float: left;margin-right: 0.25em;color: #696969;}#sk-container-id-1 label.sk-toggleable__label-arrow:hover:before {color: black;}#sk-container-id-1 div.sk-estimator:hover label.sk-toggleable__label-arrow:before {color: black;}#sk-container-id-1 div.sk-toggleable__content {max-height: 0;max-width: 0;overflow: hidden;text-align: left;background-color: #f0f8ff;}#sk-container-id-1 div.sk-toggleable__content pre {margin: 0.2em;color: black;border-radius: 0.25em;background-color: #f0f8ff;}#sk-container-id-1 input.sk-toggleable__control:checked~div.sk-toggleable__content {max-height: 200px;max-width: 100%;overflow: auto;}#sk-container-id-1 input.sk-toggleable__control:checked~label.sk-toggleable__label-arrow:before {content: \"▾\";}#sk-container-id-1 div.sk-estimator input.sk-toggleable__control:checked~label.sk-toggleable__label {background-color: #d4ebff;}#sk-container-id-1 div.sk-label input.sk-toggleable__control:checked~label.sk-toggleable__label {background-color: #d4ebff;}#sk-container-id-1 input.sk-hidden--visually {border: 0;clip: rect(1px 1px 1px 1px);clip: rect(1px, 1px, 1px, 1px);height: 1px;margin: -1px;overflow: hidden;padding: 0;position: absolute;width: 1px;}#sk-container-id-1 div.sk-estimator {font-family: monospace;background-color: #f0f8ff;border: 1px dotted black;border-radius: 0.25em;box-sizing: border-box;margin-bottom: 0.5em;}#sk-container-id-1 div.sk-estimator:hover {background-color: #d4ebff;}#sk-container-id-1 div.sk-parallel-item::after {content: \"\";width: 100%;border-bottom: 1px solid gray;flex-grow: 1;}#sk-container-id-1 div.sk-label:hover label.sk-toggleable__label {background-color: #d4ebff;}#sk-container-id-1 div.sk-serial::before {content: \"\";position: absolute;border-left: 1px solid gray;box-sizing: border-box;top: 0;bottom: 0;left: 50%;z-index: 0;}#sk-container-id-1 div.sk-serial {display: flex;flex-direction: column;align-items: center;background-color: white;padding-right: 0.2em;padding-left: 0.2em;position: relative;}#sk-container-id-1 div.sk-item {position: relative;z-index: 1;}#sk-container-id-1 div.sk-parallel {display: flex;align-items: stretch;justify-content: center;background-color: white;position: relative;}#sk-container-id-1 div.sk-item::before, #sk-container-id-1 div.sk-parallel-item::before {content: \"\";position: absolute;border-left: 1px solid gray;box-sizing: border-box;top: 0;bottom: 0;left: 50%;z-index: -1;}#sk-container-id-1 div.sk-parallel-item {display: flex;flex-direction: column;z-index: 1;position: relative;background-color: white;}#sk-container-id-1 div.sk-parallel-item:first-child::after {align-self: flex-end;width: 50%;}#sk-container-id-1 div.sk-parallel-item:last-child::after {align-self: flex-start;width: 50%;}#sk-container-id-1 div.sk-parallel-item:only-child::after {width: 0;}#sk-container-id-1 div.sk-dashed-wrapped {border: 1px dashed gray;margin: 0 0.4em 0.5em 0.4em;box-sizing: border-box;padding-bottom: 0.4em;background-color: white;}#sk-container-id-1 div.sk-label label {font-family: monospace;font-weight: bold;display: inline-block;line-height: 1.2em;}#sk-container-id-1 div.sk-label-container {text-align: center;}#sk-container-id-1 div.sk-container {/* jupyter's `normalize.less` sets `[hidden] { display: none; }` but bootstrap.min.css set `[hidden] { display: none !important; }` so we also need the `!important` here to be able to override the default hidden behavior on the sphinx rendered scikit-learn.org. See: https://github.com/scikit-learn/scikit-learn/issues/21755 */display: inline-block !important;position: relative;}#sk-container-id-1 div.sk-text-repr-fallback {display: none;}</style><div id=\"sk-container-id-1\" class=\"sk-top-container\"><div class=\"sk-text-repr-fallback\"><pre>MultinomialNB(alpha=0.1)</pre><b>In a Jupyter environment, please rerun this cell to show the HTML representation or trust the notebook. <br />On GitHub, the HTML representation is unable to render, please try loading this page with nbviewer.org.</b></div><div class=\"sk-container\" hidden><div class=\"sk-item\"><div class=\"sk-estimator sk-toggleable\"><input class=\"sk-toggleable__control sk-hidden--visually\" id=\"sk-estimator-id-1\" type=\"checkbox\" checked><label for=\"sk-estimator-id-1\" class=\"sk-toggleable__label sk-toggleable__label-arrow\">MultinomialNB</label><div class=\"sk-toggleable__content\"><pre>MultinomialNB(alpha=0.1)</pre></div></div></div></div></div>"
      ],
      "text/plain": [
       "MultinomialNB(alpha=0.1)"
      ]
     },
     "execution_count": 14,
     "metadata": {},
     "output_type": "execute_result"
    }
   ],
   "source": [
    "from sklearn.naive_bayes import MultinomialNB\n",
    "model = MultinomialNB(alpha=0.1)\n",
    "model.fit(X_train_vectorized, y_train)"
   ]
  },
  {
   "cell_type": "markdown",
   "metadata": {},
   "source": [
    "# Execution "
   ]
  },
  {
   "cell_type": "markdown",
   "metadata": {},
   "source": [
    "Upon execution of our model we could see that it yielded a high accuracy of 98% and looking at the ROC curve we confirm that our model is significantly better than performing random guesses on each entry."
   ]
  },
  {
   "cell_type": "code",
   "execution_count": 15,
   "metadata": {},
   "outputs": [
    {
     "name": "stdout",
     "output_type": "stream",
     "text": [
      "Accuracy: 98.51804123711341 %\n",
      "Cross-Validation Accuracy: 0.9760 (+/- 0.0045)\n"
     ]
    },
    {
     "data": {
      "image/png": "[encoded data removed]",
      "text/plain": [
       "<Figure size 800x800 with 1 Axes>"
      ]
     },
     "metadata": {},
     "output_type": "display_data"
    }
   ],
   "source": [
    "from sklearn.metrics import roc_curve, auc\n",
    "\n",
    "predictions = model.predict(vectorizer.transform(X_test))\n",
    "print(\"Accuracy:\", 100 * sum(predictions == y_test) / len(predictions), '%')\n",
    "\n",
    "# Choose the number of folds (e.g., 5 for 5-fold cross-validation)\n",
    "k_folds = 5\n",
    "\n",
    "# Create a KFold object\n",
    "kf = KFold(n_splits=k_folds, shuffle=True, random_state=42)\n",
    "\n",
    "# Perform cross-validation\n",
    "cross_val_results = cross_val_score(model, X_train_vectorized, y_train, cv=kf, scoring='accuracy')\n",
    "\n",
    "#print cross validation result\n",
    "print(f'Cross-Validation Accuracy: {cross_val_results.mean():.4f} (+/- {cross_val_results.std():.4f})')\n",
    "\n",
    "fpr, tpr, thresholds = roc_curve(y_test, predictions)\n",
    "roc_auc = auc(fpr, tpr)\n",
    "\n",
    "# Plotting the ROC curve\n",
    "plt.figure(figsize=(8, 8))\n",
    "plt.plot(fpr, tpr, color='darkorange', lw=2, label=f'ROC curve (AUC = {roc_auc:.2f})')\n",
    "plt.plot([0, 1], [0, 1], color='navy', lw=2, linestyle='--', label='Random Guess')\n",
    "plt.xlabel('False Positive Rate (FPR)')\n",
    "plt.ylabel('True Positive Rate (TPR) or Recall')\n",
    "plt.title('ROC Curve')\n",
    "plt.legend(loc='lower right')\n",
    "plt.show()"
   ]
  },
  {
   "cell_type": "markdown",
   "metadata": {},
   "source": [
    "# Error Estimation"
   ]
  },
  {
   "cell_type": "markdown",
   "metadata": {},
   "source": [
    "To further confirm our models excellent performance we looked at the precision, recall, and confusion matrix to determine the error. With a precision of 97% we can confirm that our model is very accurate when predicting positive and a recall of 97% indicates that our model is capturing a majority of the positive cases. This could be visualized with the confusion matrix where the number of true positives and negatives greatly outweigh the number of false positives and negatives."
   ]
  },
  {
   "cell_type": "code",
   "execution_count": 20,
   "metadata": {},
   "outputs": [
    {
     "name": "stdout",
     "output_type": "stream",
     "text": [
      "Precision: 0.9700\n",
      "Recall: 0.9768\n"
     ]
    },
    {
     "data": {
      "image/png": "[encoded data removed]",
      "text/plain": [
       "<Figure size 640x480 with 1 Axes>"
      ]
     },
     "metadata": {},
     "output_type": "display_data"
    }
   ],
   "source": [
    "from sklearn.metrics import precision_score, recall_score, confusion_matrix\n",
    "\n",
    "\n",
    "# Calculate precision and recall\n",
    "precision = precision_score(y_test, predictions)\n",
    "recall = recall_score(y_test, predictions)\n",
    "\n",
    "# Generate confusion matrix\n",
    "conf_matrix = confusion_matrix(y_test, predictions)\n",
    "\n",
    "print(f'Precision: {precision:.4f}')\n",
    "print(f'Recall: {recall:.4f}')\n",
    "# Visualize confusion matrix with heatmap\n",
    "sns.heatmap(conf_matrix, annot=True, fmt='d', cmap='Blues', cbar=False, \n",
    "            xticklabels=['Predicted 0', 'Predicted 1'], \n",
    "            yticklabels=['Actual 0', 'Actual 1'])\n",
    "\n",
    "plt.xlabel('Predicted')\n",
    "plt.ylabel('Actual')\n",
    "plt.title('Confusion Matrix')\n",
    "plt.show()\n"
   ]
  },
  {
   "cell_type": "markdown",
   "metadata": {},
   "source": [
    "# Model Validation"
   ]
  },
  {
   "cell_type": "markdown",
   "metadata": {},
   "source": [
    "In order to validate the model we split the training set into a 70/30 ratio to have a good percentage of our data act as a testing set. We also used cross validation to ensure that our model generalizes well to different chunks of our data. After having our model predict the testing set, we used metrics like ROC/AUC to quantify how much better our model is than just guessing and precision, recall, and confusion to determine the error of the model. In combination these metrics/methods ensured that we are properly measuring different aspects of our model."
   ]
  },
  {
   "cell_type": "markdown",
   "metadata": {},
   "source": [
    "# Results"
   ]
  },
  {
   "cell_type": "markdown",
   "metadata": {},
   "source": [
    "In terms of results...\n",
    "Accuracy: 0.98\n",
    "Cross Validation Mean Accuracy: 0.97\n",
    "AUC = 0.98\n",
    "Precision = 0.97\n",
    "Recall = 0.97"
   ]
  },
  {
   "cell_type": "markdown",
   "metadata": {},
   "source": [
    "# Analysis"
   ]
  },
  {
   "cell_type": "markdown",
   "metadata": {},
   "source": [
    "Putting everything together we can confidently say that our model is very accurate at distinguishing between spam emails and non spam emails. We are able to say this because the accuracy and mean cross validation accuracy indicate that the model is both good at generalizing as well as predicting. Looking at the ROC and AUC confirms that the model possesses a strong ability to distinguish between the two classes. Precision and recall also confirm that the model is both accurately making positive predictions and capturing the majority of true positives."
   ]
  },
  {
   "cell_type": "markdown",
   "metadata": {},
   "source": [
    "# Model Improvement"
   ]
  },
  {
   "cell_type": "markdown",
   "metadata": {},
   "source": [
    "There isn't much room for improvement in terms of accuracy/performance as our model is performing very well. Although our model performs well the efficiency/computation time isn't the greatest, especially in the text processing steps we take. We can improve this by better filtering our text in attempt to reduce the dimensionality of the training features, thus leading to a more computation/time efficient model. Although with our current dataset the problem isn't as pronounced, if we were to work with a substantially larger dataset the computation time for preprocessing would likely increase significantly."
   ]
  },
  {
   "cell_type": "markdown",
   "metadata": {},
   "source": [
    "# Conclusion"
   ]
  },
  {
   "cell_type": "markdown",
   "metadata": {},
   "source": [
    "As stated before receiving spam emails is a common occurrence so being able to automatically detect them is great for both user experience and company security. We've developed a naive bayes model that intends to detect spam emails by looking at the contents of the email (after preprocessing) and it performs very well (as explained in the analysis/results section). The success of our model confirms that naive bayes models are not only suitable for spam email classification but potentially other text related data."
   ]
  }
 ],
 "metadata": {
  "kernelspec": {
   "display_name": "Python 3 (ipykernel)",
   "language": "python",
   "name": "python3"
  },
  "language_info": {
   "codemirror_mode": {
    "name": "ipython",
    "version": 3
   },
   "file_extension": ".py",
   "mimetype": "text/x-python",
   "name": "python",
   "nbconvert_exporter": "python",
   "pygments_lexer": "ipython3",
   "version": "3.11.5"
  }
 },
 "nbformat": 4,
 "nbformat_minor": 4
}
